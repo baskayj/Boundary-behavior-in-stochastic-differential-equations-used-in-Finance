{
  "nbformat": 4,
  "nbformat_minor": 0,
  "metadata": {
    "colab": {
      "name": "Models.ipynb",
      "provenance": [],
      "collapsed_sections": [
        "a2DcHOS0EPyD",
        "Bae9UWnEAw8b",
        "wuvz-csy5k6H",
        "8y--EqC15pAx",
        "Ms_EJOdA5rmd",
        "eVHDt2pJ5t2Z",
        "NX0kPcSfFVEy",
        "twoIHicUpCYR",
        "-VrU7-EZpFA2",
        "TySDhnXKpFoM",
        "jCxGk7KTpGOg",
        "YiK_zcTa3SDC",
        "txxDLp4Mj8D9"
      ],
      "machine_shape": "hm",
      "include_colab_link": true
    },
    "kernelspec": {
      "name": "python3",
      "display_name": "Python 3"
    }
  },
  "cells": [
    {
      "cell_type": "markdown",
      "metadata": {
        "id": "view-in-github",
        "colab_type": "text"
      },
      "source": [
        "<a href=\"https://colab.research.google.com/github/baskayj/Boundary-behavior-in-stochastic-differential-equations-used-in-Finance/blob/master/Models.ipynb\" target=\"_parent\"><img src=\"https://colab.research.google.com/assets/colab-badge.svg\" alt=\"Open In Colab\"/></a>"
      ]
    },
    {
      "cell_type": "code",
      "metadata": {
        "id": "VuQcStMudqNs",
        "colab_type": "code",
        "colab": {}
      },
      "source": [
        "import time\n",
        "import pandas as pd\n",
        "import numpy as np\n",
        "import matplotlib.pyplot as plt\n",
        "import multiprocessing as mp\n",
        "\n",
        "from collections import namedtuple\n",
        "from google.colab import drive\n",
        "\n",
        "mc_rep = 10000                                                                  #Number of generated trajectories"
      ],
      "execution_count": 0,
      "outputs": []
    },
    {
      "cell_type": "code",
      "metadata": {
        "id": "Sup1ynOWdt9W",
        "colab_type": "code",
        "outputId": "63cd7470-7524-4e66-c70f-5e051ab57799",
        "colab": {
          "base_uri": "https://localhost:8080/",
          "height": 34
        }
      },
      "source": [
        "#To load and save simulation data\n",
        "\n",
        "drive.mount('/content/gdrive')\n",
        "DATA_PATH = '/content/gdrive/My Drive/MSc. Szakdolgozat/Data/'"
      ],
      "execution_count": 0,
      "outputs": [
        {
          "output_type": "stream",
          "text": [
            "Drive already mounted at /content/gdrive; to attempt to forcibly remount, call drive.mount(\"/content/gdrive\", force_remount=True).\n"
          ],
          "name": "stdout"
        }
      ]
    },
    {
      "cell_type": "code",
      "metadata": {
        "id": "aVqJJRzueDq7",
        "colab_type": "code",
        "colab": {}
      },
      "source": [
        "#CIR MODEL\n",
        "#There are multiple finite-diffrence schemes for simulation including,\n",
        "#Euler-Maryama Scheme: X[i] = X[i-1] + kappa*(theta-X[i-1])*dt + sigma*np.sqrt(X[i-1])*W[i-1]*np.sqrt(dt)\n",
        "#Weighted Milstein Scheme: X[i] = (X[i-1] + kappa*(theta-alpha*X[i-1])*dt + sigma*np.sqrt(X[i-1])*W[i-1]*np.sqrt(dt) + (1/4)*np.power(sigma,2)*dt*(np.power(W[i-1],2)-1))/(1+(1-alpha)*kappa*dt)\n",
        "#To be continued...\n",
        "\n",
        "#gamma = 2*kappa*theta/sigma^2\n",
        "\n",
        "#Path(returns the entire path as a NumPy array)\n",
        "def CIR_path(X0, dt, T, kappa, theta, sigma, seed):\n",
        "  N = int(T/dt)\n",
        "  alpha = 0.8\n",
        "  np.random.seed(seed)\n",
        "  W = np.random.normal(size=N)\n",
        "  X = np.zeros(N)\n",
        "  X[0] = X0\n",
        "  for i in range(1,N):\n",
        "    x = (X[i-1] + kappa*(theta-alpha*X[i-1])*dt + sigma*np.sqrt(X[i-1])*W[i-1]*np.sqrt(dt) + (1/4)*np.power(sigma,2)*dt*(np.power(W[i-1],2)-1))/(1+(1-alpha)*kappa*dt)\n",
        "    if x < 0 :\n",
        "      X[i] = 0\n",
        "    else:\n",
        "      X[i] = x\n",
        "  return X\n",
        "\n",
        "#Process(returns only the values at t = T)\n",
        "def CIR_prcss(X0, dt, T, kappa, theta, sigma, seed):\n",
        "  N = int(T/dt)\n",
        "  alpha = 0.8\n",
        "  np.random.seed(seed)\n",
        "  W = np.random.normal(size=N)\n",
        "  X = np.zeros(N)\n",
        "  X[0] = X0\n",
        "  for i in range(1,N):\n",
        "    x = (X[i-1] + kappa*(theta-alpha*X[i-1])*dt + sigma*np.sqrt(X[i-1])*W[i-1]*np.sqrt(dt) + (1/4)*np.power(sigma,2)*dt*(np.power(W[i-1],2)-1))/(1+(1-alpha)*kappa*dt)\n",
        "    if x < 0 :\n",
        "      X[i] = 0\n",
        "    else:\n",
        "      X[i] = x\n",
        "  return X[N]"
      ],
      "execution_count": 0,
      "outputs": []
    },
    {
      "cell_type": "code",
      "metadata": {
        "id": "M4EljScGscqS",
        "colab_type": "code",
        "colab": {}
      },
      "source": [
        "# CLASSES for MP\n",
        "\n",
        "#CIR\n",
        "class CIR():\n",
        "  def __init__(self,X0,dt,T,kappa,theta,sigma):\n",
        "    self.X0 = X0\n",
        "    self.dt = dt\n",
        "    self.T = T\n",
        "    self.kappa = kappa\n",
        "    self.theta = theta\n",
        "    self.sigma = sigma\n",
        "  def Path(self,seed):\n",
        "    return CIR_path(self.X0, self.dt, self.T, self.kappa, self.theta, self.sigma, seed)\n",
        "  def Prcss(self,seed):\n",
        "    return CIR_prcss(self.X0, self.dt, self.T, self.kappa, self.theta, self.sigma, seed)"
      ],
      "execution_count": 0,
      "outputs": []
    },
    {
      "cell_type": "code",
      "metadata": {
        "id": "wl715wm3pjWg",
        "colab_type": "code",
        "colab": {}
      },
      "source": [
        "#MULTIPROCESS FUNCTIONS\n",
        "\n",
        "def CIR_Path_mp(X0,dt,T,kappa,theta,sigma):\n",
        "  cir = CIR(X0,dt,T,kappa,theta,sigma)\n",
        "  pool = mp.Pool(processes=mp.cpu_count())\n",
        "  return pool.map(cir.Path,range(mc_rep))\n",
        "\n",
        "def CIR_Prcss_mp(X0,dt,T,kappa,theta,sigma):\n",
        "  cir = CIR(X0,dt,T,kappa,theta,sigma)\n",
        "  pool = mp.Pool(processes=mp.cpu_count())\n",
        "  return pool.map(cir.Prcss,range(mc_rep))"
      ],
      "execution_count": 0,
      "outputs": []
    },
    {
      "cell_type": "code",
      "metadata": {
        "id": "r5ybe5TQIAg5",
        "colab_type": "code",
        "colab": {}
      },
      "source": [
        ""
      ],
      "execution_count": 0,
      "outputs": []
    },
    {
      "cell_type": "markdown",
      "metadata": {
        "id": "3AleF7nQo-av",
        "colab_type": "text"
      },
      "source": [
        "------"
      ]
    },
    {
      "cell_type": "markdown",
      "metadata": {
        "id": "Igo29OZaMDdG",
        "colab_type": "text"
      },
      "source": [
        "# Relationship between the CIR-Process and the Noncentral $\\chi ^2$-distribution"
      ]
    },
    {
      "cell_type": "markdown",
      "metadata": {
        "id": "fWiabTD7MWjY",
        "colab_type": "text"
      },
      "source": [
        ""
      ]
    },
    {
      "cell_type": "markdown",
      "metadata": {
        "id": "1A_LkNAVMXxT",
        "colab_type": "text"
      },
      "source": [
        "References:"
      ]
    },
    {
      "cell_type": "markdown",
      "metadata": {
        "id": "kt1O7dwZMbCW",
        "colab_type": "text"
      },
      "source": [
        "---"
      ]
    },
    {
      "cell_type": "markdown",
      "metadata": {
        "id": "3K3Hrfc4EXcX",
        "colab_type": "text"
      },
      "source": [
        "# EXPERIMENT: T -> infty"
      ]
    },
    {
      "cell_type": "code",
      "metadata": {
        "id": "4rJL3cJaIhUQ",
        "colab_type": "code",
        "colab": {}
      },
      "source": [
        "#EXPERIMENT:\n",
        "\n",
        "model = 'CIR_'\n",
        "\n",
        "name = 'test'\n",
        "\n",
        "#Parameters:\n",
        "all_params = namedtuple('all_params','X0 dt T kappa theta sigma')\n",
        "P = all_params(X0 = 0.5, dt = 1/10000, T = 1,kappa = 1, theta = 1, sigma = 0.6)\n",
        "\n",
        "#Variable:\n",
        "var_name = 'gamma'\n",
        "var = [2]\n",
        "kappa = list(map(lambda p: p*np.power(P.sigma,2)*(1/(2*P.theta)),Var))\n",
        "\n",
        "\n",
        "start_time = time.time()\n",
        "#GENERATING ALL TRAJECTORIES\n",
        "X = np.zeros((len(Var),mc_rep))\n",
        "for i in range(len(kappa)):\n",
        "  print(f\"\\n Staring simulations on {Var_name} = {Var[i]}\\n\")\n",
        "  s_time = time.time()\n",
        "  j = 0\n",
        "  for x in CIR_Prcss_mp(P.X0,P.dt,P.T,kappa[i],P.theta,P.sigma):\n",
        "    X[i,j] = x\n",
        "    j += 1\n",
        "  e_time = time.time()\n",
        "  print(f\"Finished generating trajectories for {Var_name} = {var[i]} in {e_time-s_time} seconds.\\n\")\n",
        "\n",
        "\n",
        "#Saving the Data\n",
        "np.save(f\"{DATA_PATH}{model}{name}_params.npy\",P) #!!\n",
        "np.save(f\"{DATA_PATH}{model}{name}_{var_name}_values.npy\",var) #!!\n",
        "np.save(f\"{DATA_PATH}{model}{name}.npy\",X)\n",
        "print(f\"Data saved to {DATA_PATH} succefully. \\n\")\n",
        "\n",
        "#Memory Management\n",
        "del X\n",
        "\n",
        "end_time = time.time()\n",
        "print(f\"The simulation finished in {end_time-start_time} seconds.\\n\")"
      ],
      "execution_count": 0,
      "outputs": []
    },
    {
      "cell_type": "markdown",
      "metadata": {
        "id": "4KjSc_hTIFcW",
        "colab_type": "text"
      },
      "source": [
        "# EXPERIMENT: X0 -> 0"
      ]
    },
    {
      "cell_type": "code",
      "metadata": {
        "id": "ZvfDALZGIqZr",
        "colab_type": "code",
        "colab": {}
      },
      "source": [
        ""
      ],
      "execution_count": 0,
      "outputs": []
    },
    {
      "cell_type": "markdown",
      "metadata": {
        "id": "OV0Upc5MNBzM",
        "colab_type": "text"
      },
      "source": [
        "# EXPERIMENT: Using the Noncentral $\\chi ^2$-distribution"
      ]
    },
    {
      "cell_type": "code",
      "metadata": {
        "id": "DaUOvIc5NCLC",
        "colab_type": "code",
        "colab": {}
      },
      "source": [
        ""
      ],
      "execution_count": 0,
      "outputs": []
    },
    {
      "cell_type": "markdown",
      "metadata": {
        "id": "ZRr71nnaNCfy",
        "colab_type": "text"
      },
      "source": [
        "#EXPERIMENT: Finding the critical $\\gamma$-values numerically"
      ]
    },
    {
      "cell_type": "code",
      "metadata": {
        "id": "1n6m56AeNC5P",
        "colab_type": "code",
        "colab": {}
      },
      "source": [
        ""
      ],
      "execution_count": 0,
      "outputs": []
    },
    {
      "cell_type": "markdown",
      "metadata": {
        "id": "a2DcHOS0EPyD",
        "colab_type": "text"
      },
      "source": [
        "# OLD CODE"
      ]
    },
    {
      "cell_type": "code",
      "metadata": {
        "id": "m2a_aVomERZO",
        "colab_type": "code",
        "colab": {}
      },
      "source": [
        "#OUTDATED!!!!!!!!!\n",
        "def CIR_path_Euler(X0,N,T,repeat, kappa,theta,sigma,seed, boundary):\n",
        "  dt = (T/N)*repeat\n",
        "  np.random.seed(seed)\n",
        "  W = np.random.normal(size=N)\n",
        "  X = np.zeros(N)\n",
        "  X[0] = X0\n",
        "  for i in range(1,N):\n",
        "    if i%repeat == 0:\n",
        "      X[i] = boundary(X[i-1], X[i-1] + kappa*(theta-X[i-1])*dt + sigma*np.sqrt(X[i-1])*W[i-1]*np.sqrt(dt) )\n",
        "    else:\n",
        "      X[i] = X[i-1]\n",
        "  return X\n",
        "\n",
        "#CEV\n",
        "#OUTDATED!!!!!!!!!\n",
        "def CEV_path(X0,N,T,repeat, W, boundary, mu,sigma,beta):                              # beta in (-1,0)\n",
        "  dt = (T/N)*repeat\n",
        "  X = np.zeros(N)\n",
        "  X[0] = X0\n",
        "  for i in range(1,N):\n",
        "    if i%repeat == 0:\n",
        "      X[i] = boundary(X[i-1], X[i-1] + mu*X[i-1]*dt + sigma*np.pow(X[i-1],beta+1)*W[i-1]*np.sqrt(dt) )\n",
        "    else:\n",
        "      X[i] = X[i-1]\n",
        "  return X\n",
        "\n",
        "\n",
        "#GBM\n",
        "#OUTDATED!!!!!!!!\n",
        "def GBM_path(X0,N,T,repeat, W, boundary, mu,sigma):\n",
        "  dt = (T/N)*repeat\n",
        "  X = np.zeros(N)\n",
        "  X[0] = X0\n",
        "  for i in range(1,N):\n",
        "    if i%repeat == 0:\n",
        "      X[i] = boundary(X[i-1], X[i-1] + mu*X[i-1]*dt + sigma*X[i-1]*W[i-1]*np.sqrt(dt) )\n",
        "    else:\n",
        "      X[i] = X[i-1]\n",
        "  return X\n",
        "\n",
        "\n",
        "#BOUNDARY CONDITIONS\n",
        "\n",
        "def no_boundary(Xi,Xii):\n",
        "  return Xii\n",
        "\n",
        "\n",
        "def sticky_boundary(Xi,Xii):\n",
        "  if Xi < B:\n",
        "    return Xi\n",
        "  elif Xii < B:\n",
        "    return 0 #!!!!!!!!!!!!!!!!!!!!!\n",
        "  else:\n",
        "    return Xii\n",
        "\n",
        "\n",
        "def reflective_boundary(Xi,Xii):\n",
        "  if Xii <= B:\n",
        "    return (2*B-Xii)\n",
        "  elif Xii >= A:\n",
        "    return (2*A-Xii)\n",
        "  else:\n",
        "    return Xii"
      ],
      "execution_count": 0,
      "outputs": []
    },
    {
      "cell_type": "markdown",
      "metadata": {
        "id": "Bae9UWnEAw8b",
        "colab_type": "text"
      },
      "source": [
        "## From bulk to boundary:"
      ]
    },
    {
      "cell_type": "markdown",
      "metadata": {
        "id": "wuvz-csy5k6H",
        "colab_type": "text"
      },
      "source": [
        "### 10k"
      ]
    },
    {
      "cell_type": "code",
      "metadata": {
        "id": "7AXCuNxc2bKg",
        "colab_type": "code",
        "outputId": "b196b0ff-a763-47ae-c44e-4d05dddd6640",
        "colab": {
          "base_uri": "https://localhost:8080/",
          "height": 850
        }
      },
      "source": [
        "#EXPERIMENT: Critical Behaviour (Feller Condition)\n",
        "#Part I.\n",
        "#From bulk to boundary\n",
        "#gamma = 2*kappa*theta/sigma^2\n",
        "\n",
        "if __name__ == '__main__':\n",
        "  start_time = time.time()\n",
        "\n",
        "  model = 'CIR_'\n",
        "\n",
        "  name = 'phase_diagram_from_bulk_10k'\n",
        "\n",
        "  part = '_part_1'\n",
        "\n",
        "  #Iterable parameters:\n",
        "  all_params = namedtuple('all_params','X0 n_grid T kappa theta sigma alpha')\n",
        "  pp = all_params(X0 = 0.5, n_grid = 10000, T = 1,kappa = 1, theta = 1, sigma = 0.6, alpha = 0.8)\n",
        "\n",
        "  gamma = [-2.5,-2,-1.5,-1,-0.5] #When doing 10k only 6 can be done in a single measurment! Please divide them into parts.\n",
        "  kappa = list(map(lambda p: p*np.power(pp.sigma,2)*(1/(2*pp.theta)),gamma))\n",
        "\n",
        "  #Generating ALL trajectories\n",
        "  X = np.zeros((len(gamma),mc_rep,pp.n_grid))\n",
        "  for i in range(len(kappa)):\n",
        "    print(f\"\\n Staring simulations on gamma = {gamma[i]}\\n\")\n",
        "    s_time = time.time()\n",
        "    j = 0\n",
        "    for x in CIR_mp(pp.X0,pp.n_grid,pp.T,kappa[i],pp.theta,pp.sigma,pp.alpha,sticky_boundary):\n",
        "      X[i,j,:] = x\n",
        "      j += 1\n",
        "    e_time = time.time()\n",
        "    print(f\"Finished generating trajectories for gamma = {gamma[i]} in {e_time-s_time} seconds.\\n\")\n",
        "\n",
        "\n",
        "\n",
        "\n",
        "  #Saving the Data\n",
        "  np.save(DATA_PATH + 'CIR_' + name + part + '_params' + '.npy',pp)\n",
        "  np.save(DATA_PATH + 'CIR_' + name + part + '_values' + '.npy',gamma) # SAVING THE USED PARAMETERS!!!\n",
        "  np.save(DATA_PATH + 'CIR_' + name + part + '.npy',X)\n",
        "  print(f\"Data saved to {DATA_PATH} succefully. \\n\")\n",
        "\n",
        "  end_time = time.time()\n",
        "  print(f\"The simulation finished in {end_time-start_time} seconds.\\n\")\n",
        "  del X"
      ],
      "execution_count": 0,
      "outputs": [
        {
          "output_type": "stream",
          "text": [
            "\n",
            " Staring simulations on gamma = -2.5\n",
            "\n"
          ],
          "name": "stdout"
        },
        {
          "output_type": "stream",
          "text": [
            "/usr/local/lib/python3.6/dist-packages/ipykernel_launcher.py:21: RuntimeWarning: invalid value encountered in sqrt\n",
            "/usr/local/lib/python3.6/dist-packages/ipykernel_launcher.py:21: RuntimeWarning: invalid value encountered in sqrt\n",
            "/usr/local/lib/python3.6/dist-packages/ipykernel_launcher.py:21: RuntimeWarning: invalid value encountered in sqrt\n",
            "/usr/local/lib/python3.6/dist-packages/ipykernel_launcher.py:21: RuntimeWarning: invalid value encountered in sqrt\n"
          ],
          "name": "stderr"
        },
        {
          "output_type": "stream",
          "text": [
            "Finished generating trajectories for gamma = -2.5 in 450.2725296020508 seconds.\n",
            "\n",
            "\n",
            " Staring simulations on gamma = -2\n",
            "\n"
          ],
          "name": "stdout"
        },
        {
          "output_type": "stream",
          "text": [
            "/usr/local/lib/python3.6/dist-packages/ipykernel_launcher.py:21: RuntimeWarning: invalid value encountered in sqrt\n",
            "/usr/local/lib/python3.6/dist-packages/ipykernel_launcher.py:21: RuntimeWarning: invalid value encountered in sqrt\n",
            "/usr/local/lib/python3.6/dist-packages/ipykernel_launcher.py:21: RuntimeWarning: invalid value encountered in sqrt\n",
            "/usr/local/lib/python3.6/dist-packages/ipykernel_launcher.py:21: RuntimeWarning: invalid value encountered in sqrt\n"
          ],
          "name": "stderr"
        },
        {
          "output_type": "stream",
          "text": [
            "Finished generating trajectories for gamma = -2 in 550.5965433120728 seconds.\n",
            "\n",
            "\n",
            " Staring simulations on gamma = -1.5\n",
            "\n"
          ],
          "name": "stdout"
        },
        {
          "output_type": "stream",
          "text": [
            "/usr/local/lib/python3.6/dist-packages/ipykernel_launcher.py:21: RuntimeWarning: invalid value encountered in sqrt\n",
            "/usr/local/lib/python3.6/dist-packages/ipykernel_launcher.py:21: RuntimeWarning: invalid value encountered in sqrt\n",
            "/usr/local/lib/python3.6/dist-packages/ipykernel_launcher.py:21: RuntimeWarning: invalid value encountered in sqrt\n",
            "/usr/local/lib/python3.6/dist-packages/ipykernel_launcher.py:21: RuntimeWarning: invalid value encountered in sqrt\n"
          ],
          "name": "stderr"
        },
        {
          "output_type": "stream",
          "text": [
            "Finished generating trajectories for gamma = -1.5 in 567.3017845153809 seconds.\n",
            "\n",
            "\n",
            " Staring simulations on gamma = -1\n",
            "\n"
          ],
          "name": "stdout"
        },
        {
          "output_type": "stream",
          "text": [
            "/usr/local/lib/python3.6/dist-packages/ipykernel_launcher.py:21: RuntimeWarning: invalid value encountered in sqrt\n",
            "/usr/local/lib/python3.6/dist-packages/ipykernel_launcher.py:21: RuntimeWarning: invalid value encountered in sqrt\n",
            "/usr/local/lib/python3.6/dist-packages/ipykernel_launcher.py:21: RuntimeWarning: invalid value encountered in sqrt\n",
            "/usr/local/lib/python3.6/dist-packages/ipykernel_launcher.py:21: RuntimeWarning: invalid value encountered in sqrt\n"
          ],
          "name": "stderr"
        },
        {
          "output_type": "stream",
          "text": [
            "Finished generating trajectories for gamma = -1 in 547.9143452644348 seconds.\n",
            "\n",
            "\n",
            " Staring simulations on gamma = -0.5\n",
            "\n"
          ],
          "name": "stdout"
        },
        {
          "output_type": "stream",
          "text": [
            "/usr/local/lib/python3.6/dist-packages/ipykernel_launcher.py:21: RuntimeWarning: invalid value encountered in sqrt\n",
            "/usr/local/lib/python3.6/dist-packages/ipykernel_launcher.py:21: RuntimeWarning: invalid value encountered in sqrt\n",
            "/usr/local/lib/python3.6/dist-packages/ipykernel_launcher.py:21: RuntimeWarning: invalid value encountered in sqrt\n",
            "/usr/local/lib/python3.6/dist-packages/ipykernel_launcher.py:21: RuntimeWarning: invalid value encountered in sqrt\n"
          ],
          "name": "stderr"
        },
        {
          "output_type": "stream",
          "text": [
            "Finished generating trajectories for gamma = -0.5 in 575.2237040996552 seconds.\n",
            "\n",
            "Data saved to /content/gdrive/My Drive/MSc. Szakdolgozat/Data/ succefully. \n",
            "\n",
            "The simulation finished in 2785.619341135025 seconds.\n",
            "\n"
          ],
          "name": "stdout"
        }
      ]
    },
    {
      "cell_type": "code",
      "metadata": {
        "id": "1z1-39fC5z6x",
        "colab_type": "code",
        "outputId": "a09ab9db-4383-4e3c-c11f-c5e278e4d534",
        "colab": {
          "base_uri": "https://localhost:8080/",
          "height": 850
        }
      },
      "source": [
        "#EXPERIMENT: Critical Behaviour (Feller Condition)\n",
        "#Part I.\n",
        "#From bulk to boundary\n",
        "#gamma = 2*kappa*theta/sigma^2\n",
        "\n",
        "if __name__ == '__main__':\n",
        "  start_time = time.time()\n",
        "\n",
        "  model = 'CIR_'\n",
        "\n",
        "  name = 'phase_diagram_from_bulk_10k'\n",
        "\n",
        "  part = '_part_2'\n",
        "\n",
        "  #Iterable parameters:\n",
        "  all_params = namedtuple('all_params','X0 n_grid T kappa theta sigma alpha')\n",
        "  pp = all_params(X0 = 0.5, n_grid = 10000, T = 1,kappa = 0.3, theta = 0.3, sigma = 0.6, alpha = 0.8)\n",
        "\n",
        "  gamma = [-0.2,-0.1,0,0.1,0.2] #When doing 10k only 6 can be done in a single measurment! Please divide them into parts.\n",
        "  kappa = list(map(lambda p: p*np.power(pp.sigma,2)*(1/(2*pp.theta)),gamma))\n",
        "\n",
        "  #Generating ALL trajectories\n",
        "  X = np.zeros((len(gamma),mc_rep,pp.n_grid))\n",
        "  for i in range(len(kappa)):\n",
        "    print(f\"\\n Staring simulations on gamma = {gamma[i]}\\n\")\n",
        "    s_time = time.time()\n",
        "    j = 0\n",
        "    for x in CIR_mp(pp.X0,pp.n_grid,pp.T,kappa[i],pp.theta,pp.sigma,pp.alpha,sticky_boundary):\n",
        "      X[i,j,:] = x\n",
        "      j += 1\n",
        "    e_time = time.time()\n",
        "    print(f\"Finished generating trajectories for gamma = {gamma[i]} in {e_time-s_time} seconds.\\n\")\n",
        "\n",
        "\n",
        "\n",
        "\n",
        "  #Saving the Data\n",
        "  np.save(DATA_PATH + 'CIR_' + name + part + '_params' + '.npy',pp)\n",
        "  np.save(DATA_PATH + 'CIR_' + name + part + '_values' + '.npy',gamma) # SAVING THE USED PARAMETERS!!!\n",
        "  np.save(DATA_PATH + 'CIR_' + name + part + '.npy',X)\n",
        "  print(f\"Data saved to {DATA_PATH} succefully. \\n\")\n",
        "\n",
        "  end_time = time.time()\n",
        "  print(f\"The simulation finished in {end_time-start_time} seconds.\\n\")\n",
        "  del X"
      ],
      "execution_count": 0,
      "outputs": [
        {
          "output_type": "stream",
          "text": [
            "\n",
            " Staring simulations on gamma = -0.2\n",
            "\n"
          ],
          "name": "stdout"
        },
        {
          "output_type": "stream",
          "text": [
            "/usr/local/lib/python3.6/dist-packages/ipykernel_launcher.py:21: RuntimeWarning: invalid value encountered in sqrt\n",
            "/usr/local/lib/python3.6/dist-packages/ipykernel_launcher.py:21: RuntimeWarning: invalid value encountered in sqrt\n",
            "/usr/local/lib/python3.6/dist-packages/ipykernel_launcher.py:21: RuntimeWarning: invalid value encountered in sqrt\n",
            "/usr/local/lib/python3.6/dist-packages/ipykernel_launcher.py:21: RuntimeWarning: invalid value encountered in sqrt\n"
          ],
          "name": "stderr"
        },
        {
          "output_type": "stream",
          "text": [
            "Finished generating trajectories for gamma = -0.2 in 462.17609548568726 seconds.\n",
            "\n",
            "\n",
            " Staring simulations on gamma = -0.1\n",
            "\n"
          ],
          "name": "stdout"
        },
        {
          "output_type": "stream",
          "text": [
            "/usr/local/lib/python3.6/dist-packages/ipykernel_launcher.py:21: RuntimeWarning: invalid value encountered in sqrt\n",
            "/usr/local/lib/python3.6/dist-packages/ipykernel_launcher.py:21: RuntimeWarning: invalid value encountered in sqrt\n",
            "/usr/local/lib/python3.6/dist-packages/ipykernel_launcher.py:21: RuntimeWarning: invalid value encountered in sqrt\n",
            "/usr/local/lib/python3.6/dist-packages/ipykernel_launcher.py:21: RuntimeWarning: invalid value encountered in sqrt\n"
          ],
          "name": "stderr"
        },
        {
          "output_type": "stream",
          "text": [
            "Finished generating trajectories for gamma = -0.1 in 555.7196614742279 seconds.\n",
            "\n",
            "\n",
            " Staring simulations on gamma = 0\n",
            "\n"
          ],
          "name": "stdout"
        },
        {
          "output_type": "stream",
          "text": [
            "/usr/local/lib/python3.6/dist-packages/ipykernel_launcher.py:21: RuntimeWarning: invalid value encountered in sqrt\n",
            "/usr/local/lib/python3.6/dist-packages/ipykernel_launcher.py:21: RuntimeWarning: invalid value encountered in sqrt\n",
            "/usr/local/lib/python3.6/dist-packages/ipykernel_launcher.py:21: RuntimeWarning: invalid value encountered in sqrt\n",
            "/usr/local/lib/python3.6/dist-packages/ipykernel_launcher.py:21: RuntimeWarning: invalid value encountered in sqrt\n"
          ],
          "name": "stderr"
        },
        {
          "output_type": "stream",
          "text": [
            "Finished generating trajectories for gamma = 0 in 559.1353735923767 seconds.\n",
            "\n",
            "\n",
            " Staring simulations on gamma = 0.1\n",
            "\n"
          ],
          "name": "stdout"
        },
        {
          "output_type": "stream",
          "text": [
            "/usr/local/lib/python3.6/dist-packages/ipykernel_launcher.py:21: RuntimeWarning: invalid value encountered in sqrt\n",
            "/usr/local/lib/python3.6/dist-packages/ipykernel_launcher.py:21: RuntimeWarning: invalid value encountered in sqrt\n",
            "/usr/local/lib/python3.6/dist-packages/ipykernel_launcher.py:21: RuntimeWarning: invalid value encountered in sqrt\n",
            "/usr/local/lib/python3.6/dist-packages/ipykernel_launcher.py:21: RuntimeWarning: invalid value encountered in sqrt\n"
          ],
          "name": "stderr"
        },
        {
          "output_type": "stream",
          "text": [
            "Finished generating trajectories for gamma = 0.1 in 544.9100868701935 seconds.\n",
            "\n",
            "\n",
            " Staring simulations on gamma = 0.2\n",
            "\n"
          ],
          "name": "stdout"
        },
        {
          "output_type": "stream",
          "text": [
            "/usr/local/lib/python3.6/dist-packages/ipykernel_launcher.py:21: RuntimeWarning: invalid value encountered in sqrt\n",
            "/usr/local/lib/python3.6/dist-packages/ipykernel_launcher.py:21: RuntimeWarning: invalid value encountered in sqrt\n",
            "/usr/local/lib/python3.6/dist-packages/ipykernel_launcher.py:21: RuntimeWarning: invalid value encountered in sqrt\n",
            "/usr/local/lib/python3.6/dist-packages/ipykernel_launcher.py:21: RuntimeWarning: invalid value encountered in sqrt\n"
          ],
          "name": "stderr"
        },
        {
          "output_type": "stream",
          "text": [
            "Finished generating trajectories for gamma = 0.2 in 538.1378140449524 seconds.\n",
            "\n",
            "Data saved to /content/gdrive/My Drive/MSc. Szakdolgozat/Data/ succefully. \n",
            "\n",
            "The simulation finished in 2758.432195186615 seconds.\n",
            "\n"
          ],
          "name": "stdout"
        }
      ]
    },
    {
      "cell_type": "code",
      "metadata": {
        "id": "avp45XZb50r3",
        "colab_type": "code",
        "outputId": "698bc54b-faf8-4860-e00f-fab6cf33cadc",
        "colab": {
          "base_uri": "https://localhost:8080/",
          "height": 578
        }
      },
      "source": [
        "#EXPERIMENT: Critical Behaviour (Feller Condition)\n",
        "#Part I.\n",
        "#From bulk to boundary\n",
        "#gamma = 2*kappa*theta/sigma^2\n",
        "\n",
        "if __name__ == '__main__':\n",
        "  start_time = time.time()\n",
        "\n",
        "  model = 'CIR_'\n",
        "\n",
        "  name = 'phase_diagram_from_bulk_10k'\n",
        "\n",
        "  part = '_part_3'\n",
        "\n",
        "  #Iterable parameters:\n",
        "  all_params = namedtuple('all_params','X0 n_grid T kappa theta sigma alpha')\n",
        "  pp = all_params(X0 = 0.5, n_grid = 10000, T = 1,kappa = 0.3, theta = 0.3, sigma = 0.6, alpha = 0.8)\n",
        "\n",
        "  gamma = [0.5,0.8,0.9,1,1.1] #When doing 10k only 6 can be done in a single measurment! Please divide them into parts.\n",
        "  kappa = list(map(lambda p: p*np.power(pp.sigma,2)*(1/(2*pp.theta)),gamma))\n",
        "\n",
        "  #Generating ALL trajectories\n",
        "  X = np.zeros((len(gamma),mc_rep,pp.n_grid))\n",
        "  for i in range(len(kappa)):\n",
        "    print(f\"\\n Staring simulations on gamma = {gamma[i]}\\n\")\n",
        "    s_time = time.time()\n",
        "    j = 0\n",
        "    for x in CIR_mp(pp.X0,pp.n_grid,pp.T,kappa[i],pp.theta,pp.sigma,pp.alpha,sticky_boundary):\n",
        "      X[i,j,:] = x\n",
        "      j += 1\n",
        "    e_time = time.time()\n",
        "    print(f\"Finished generating trajectories for gamma = {gamma[i]} in {e_time-s_time} seconds.\\n\")\n",
        "\n",
        "\n",
        "\n",
        "\n",
        "  #Saving the Data\n",
        "  np.save(DATA_PATH + 'CIR_' + name + part + '_params' + '.npy',pp)\n",
        "  np.save(DATA_PATH + 'CIR_' + name + part + '_values' + '.npy',gamma) # SAVING THE USED PARAMETERS!!!\n",
        "  np.save(DATA_PATH + 'CIR_' + name + part + '.npy',X)\n",
        "  print(f\"Data saved to {DATA_PATH} succefully. \\n\")\n",
        "\n",
        "  end_time = time.time()\n",
        "  print(f\"The simulation finished in {end_time-start_time} seconds.\\n\")\n",
        "  del X"
      ],
      "execution_count": 0,
      "outputs": [
        {
          "output_type": "stream",
          "text": [
            "\n",
            " Staring simulations on gamma = 0.5\n",
            "\n"
          ],
          "name": "stdout"
        },
        {
          "output_type": "stream",
          "text": [
            "/usr/local/lib/python3.6/dist-packages/ipykernel_launcher.py:21: RuntimeWarning: invalid value encountered in sqrt\n",
            "/usr/local/lib/python3.6/dist-packages/ipykernel_launcher.py:21: RuntimeWarning: invalid value encountered in sqrt\n",
            "/usr/local/lib/python3.6/dist-packages/ipykernel_launcher.py:21: RuntimeWarning: invalid value encountered in sqrt\n",
            "/usr/local/lib/python3.6/dist-packages/ipykernel_launcher.py:21: RuntimeWarning: invalid value encountered in sqrt\n"
          ],
          "name": "stderr"
        },
        {
          "output_type": "stream",
          "text": [
            "Finished generating trajectories for gamma = 0.5 in 541.6124782562256 seconds.\n",
            "\n",
            "\n",
            " Staring simulations on gamma = 0.8\n",
            "\n",
            "Finished generating trajectories for gamma = 0.8 in 544.0265665054321 seconds.\n",
            "\n",
            "\n",
            " Staring simulations on gamma = 0.9\n",
            "\n",
            "Finished generating trajectories for gamma = 0.9 in 541.2234892845154 seconds.\n",
            "\n",
            "\n",
            " Staring simulations on gamma = 1\n",
            "\n",
            "Finished generating trajectories for gamma = 1 in 552.5006415843964 seconds.\n",
            "\n",
            "\n",
            " Staring simulations on gamma = 1.1\n",
            "\n",
            "Finished generating trajectories for gamma = 1.1 in 559.4469728469849 seconds.\n",
            "\n",
            "Data saved to /content/gdrive/My Drive/MSc. Szakdolgozat/Data/ succefully. \n",
            "\n",
            "The simulation finished in 2841.5799827575684 seconds.\n",
            "\n"
          ],
          "name": "stdout"
        }
      ]
    },
    {
      "cell_type": "code",
      "metadata": {
        "id": "e-yiTy_v52KF",
        "colab_type": "code",
        "outputId": "323f8f1b-a2a6-49b8-9d27-1292e7542821",
        "colab": {
          "base_uri": "https://localhost:8080/",
          "height": 510
        }
      },
      "source": [
        "#EXPERIMENT: Critical Behaviour (Feller Condition)\n",
        "#Part I.\n",
        "#From bulk to boundary\n",
        "#gamma = 2*kappa*theta/sigma^2\n",
        "\n",
        "if __name__ == '__main__':\n",
        "  start_time = time.time()\n",
        "\n",
        "  model = 'CIR_'\n",
        "\n",
        "  name = 'phase_diagram_from_bulk_10k'\n",
        "\n",
        "  part = '_part_4'\n",
        "\n",
        "  #Iterable parameters:\n",
        "  all_params = namedtuple('all_params','X0 n_grid T kappa theta sigma alpha')\n",
        "  pp = all_params(X0 = 0.5, n_grid = 10000, T = 1,kappa = 0.3, theta = 0.3, sigma = 0.6, alpha = 0.8)\n",
        "\n",
        "  gamma = [1.2,1.5,2,2.5,3] #When doing 10k only 6 can be done in a single measurment! Please divide them into parts.\n",
        "  kappa = list(map(lambda p: p*np.power(pp.sigma,2)*(1/(2*pp.theta)),gamma))\n",
        "\n",
        "  #Generating ALL trajectories\n",
        "  X = np.zeros((len(gamma),mc_rep,pp.n_grid))\n",
        "  for i in range(len(kappa)):\n",
        "    print(f\"\\n Staring simulations on gamma = {gamma[i]}\\n\")\n",
        "    s_time = time.time()\n",
        "    j = 0\n",
        "    for x in CIR_mp(pp.X0,pp.n_grid,pp.T,kappa[i],pp.theta,pp.sigma,pp.alpha,sticky_boundary):\n",
        "      X[i,j,:] = x\n",
        "      j += 1\n",
        "    e_time = time.time()\n",
        "    print(f\"Finished generating trajectories for gamma = {gamma[i]} in {e_time-s_time} seconds.\\n\")\n",
        "\n",
        "\n",
        "\n",
        "\n",
        "  #Saving the Data\n",
        "  np.save(DATA_PATH + 'CIR_' + name + part + '_params' + '.npy',pp)\n",
        "  np.save(DATA_PATH + 'CIR_' + name + part + '_values' + '.npy',gamma) # SAVING THE USED PARAMETERS!!!\n",
        "  np.save(DATA_PATH + 'CIR_' + name + part + '.npy',X)\n",
        "  print(f\"Data saved to {DATA_PATH} succefully. \\n\")\n",
        "\n",
        "  end_time = time.time()\n",
        "  print(f\"The simulation finished in {end_time-start_time} seconds.\\n\")\n",
        "  del X"
      ],
      "execution_count": 0,
      "outputs": [
        {
          "output_type": "stream",
          "text": [
            "\n",
            " Staring simulations on gamma = 1.2\n",
            "\n",
            "Finished generating trajectories for gamma = 1.2 in 444.7773389816284 seconds.\n",
            "\n",
            "\n",
            " Staring simulations on gamma = 1.5\n",
            "\n",
            "Finished generating trajectories for gamma = 1.5 in 534.6602892875671 seconds.\n",
            "\n",
            "\n",
            " Staring simulations on gamma = 2\n",
            "\n",
            "Finished generating trajectories for gamma = 2 in 550.8035087585449 seconds.\n",
            "\n",
            "\n",
            " Staring simulations on gamma = 2.5\n",
            "\n",
            "Finished generating trajectories for gamma = 2.5 in 550.3296642303467 seconds.\n",
            "\n",
            "\n",
            " Staring simulations on gamma = 3\n",
            "\n",
            "Finished generating trajectories for gamma = 3 in 542.2073836326599 seconds.\n",
            "\n",
            "Data saved to /content/gdrive/My Drive/MSc. Szakdolgozat/Data/ succefully. \n",
            "\n",
            "The simulation finished in 2720.871908187866 seconds.\n",
            "\n"
          ],
          "name": "stdout"
        }
      ]
    },
    {
      "cell_type": "markdown",
      "metadata": {
        "id": "8y--EqC15pAx",
        "colab_type": "text"
      },
      "source": [
        "### 1k"
      ]
    },
    {
      "cell_type": "code",
      "metadata": {
        "id": "xbgtk6SsFAnv",
        "colab_type": "code",
        "outputId": "43c5ee52-8b7d-4fec-dbcd-01b6e1d452e8",
        "colab": {
          "base_uri": "https://localhost:8080/",
          "height": 1000
        }
      },
      "source": [
        "#EXPERIMENT: Critical Behaviour (Feller Condition)\n",
        "#From bulk to boundary\n",
        "#gamma = 2*kappa*theta/sigma^2\n",
        "\n",
        "if __name__ == '__main__':\n",
        "  start_time = time.time()\n",
        "\n",
        "  start_time = time.time()\n",
        "  model = 'CIR_'\n",
        "\n",
        "  name = 'phase_diagram_from_bulk_1k'\n",
        "\n",
        "  #Iterable parameters:\n",
        "  all_params = namedtuple('all_params','X0 n_grid T kappa theta sigma alpha')\n",
        "  pp = all_params(X0 = 0.5, n_grid = 1000, T = 1,kappa = 0.3, theta = 0.3, sigma = 0.6, alpha = 0.8)\n",
        "\n",
        "  gamma = [-2.5,-2,-1.5,-1,-0.5,-0.2,-0.1,0,0.1,0.2,0.5,0.8,0.9,1,1.1,1.2,1.5,2,2.5,3]\n",
        "  kappa = list(map(lambda p: p*np.power(pp.sigma,2)*(1/(2*pp.theta)),gamma))\n",
        "\n",
        "  #Generating ALL trajectories\n",
        "  X = np.zeros((len(gamma),mc_rep,pp.n_grid))\n",
        "  for i in range(len(kappa)):\n",
        "    print(f\"\\n Staring simulations on gamma = {gamma[i]}\\n\")\n",
        "    s_time = time.time()\n",
        "    j = 0\n",
        "    for x in CIR_mp(pp.X0,pp.n_grid,pp.T,kappa[i],pp.theta,pp.sigma,pp.alpha,sticky_boundary):\n",
        "      X[i,j,:] = x\n",
        "      j += 1\n",
        "    e_time = time.time()\n",
        "    print(f\"Finished generating trajectories for gamma = {gamma[i]} in {e_time-s_time} seconds.\\n\")\n",
        "\n",
        "\n",
        "\n",
        "\n",
        "  #Saving the Data\n",
        "  np.save(DATA_PATH + 'CIR_' + name + '_params' + '.npy',pp)\n",
        "  np.save(DATA_PATH + 'CIR_' + name + '_values' + '.npy',gamma) # SAVING THE USED PARAMETERS!!!\n",
        "  np.save(DATA_PATH + 'CIR_' + name + '.npy',X)\n",
        "  print(f\"Data saved to {DATA_PATH} succefully. \\n\")\n",
        "\n",
        "  end_time = time.time()\n",
        "  print(f\"The simulation finished in {end_time-start_time} seconds.\\n\")\n",
        "  del X"
      ],
      "execution_count": 0,
      "outputs": [
        {
          "output_type": "stream",
          "text": [
            "\n",
            " Staring simulations on gamma = -2.5\n",
            "\n"
          ],
          "name": "stdout"
        },
        {
          "output_type": "stream",
          "text": [
            "/usr/local/lib/python3.6/dist-packages/ipykernel_launcher.py:21: RuntimeWarning: invalid value encountered in sqrt\n",
            "/usr/local/lib/python3.6/dist-packages/ipykernel_launcher.py:21: RuntimeWarning: invalid value encountered in sqrt\n",
            "/usr/local/lib/python3.6/dist-packages/ipykernel_launcher.py:21: RuntimeWarning: invalid value encountered in sqrt\n",
            "/usr/local/lib/python3.6/dist-packages/ipykernel_launcher.py:21: RuntimeWarning: invalid value encountered in sqrt\n"
          ],
          "name": "stderr"
        },
        {
          "output_type": "stream",
          "text": [
            "Finished generating trajectories for gamma = -2.5 in 53.25004529953003 seconds.\n",
            "\n",
            "\n",
            " Staring simulations on gamma = -2\n",
            "\n"
          ],
          "name": "stdout"
        },
        {
          "output_type": "stream",
          "text": [
            "/usr/local/lib/python3.6/dist-packages/ipykernel_launcher.py:21: RuntimeWarning: invalid value encountered in sqrt\n",
            "/usr/local/lib/python3.6/dist-packages/ipykernel_launcher.py:21: RuntimeWarning: invalid value encountered in sqrt\n",
            "/usr/local/lib/python3.6/dist-packages/ipykernel_launcher.py:21: RuntimeWarning: invalid value encountered in sqrt\n",
            "/usr/local/lib/python3.6/dist-packages/ipykernel_launcher.py:21: RuntimeWarning: invalid value encountered in sqrt\n"
          ],
          "name": "stderr"
        },
        {
          "output_type": "stream",
          "text": [
            "Finished generating trajectories for gamma = -2 in 53.41324257850647 seconds.\n",
            "\n",
            "\n",
            " Staring simulations on gamma = -1.5\n",
            "\n"
          ],
          "name": "stdout"
        },
        {
          "output_type": "stream",
          "text": [
            "/usr/local/lib/python3.6/dist-packages/ipykernel_launcher.py:21: RuntimeWarning: invalid value encountered in sqrt\n",
            "/usr/local/lib/python3.6/dist-packages/ipykernel_launcher.py:21: RuntimeWarning: invalid value encountered in sqrt\n",
            "/usr/local/lib/python3.6/dist-packages/ipykernel_launcher.py:21: RuntimeWarning: invalid value encountered in sqrt\n",
            "/usr/local/lib/python3.6/dist-packages/ipykernel_launcher.py:21: RuntimeWarning: invalid value encountered in sqrt\n"
          ],
          "name": "stderr"
        },
        {
          "output_type": "stream",
          "text": [
            "Finished generating trajectories for gamma = -1.5 in 53.57866096496582 seconds.\n",
            "\n",
            "\n",
            " Staring simulations on gamma = -1\n",
            "\n"
          ],
          "name": "stdout"
        },
        {
          "output_type": "stream",
          "text": [
            "/usr/local/lib/python3.6/dist-packages/ipykernel_launcher.py:21: RuntimeWarning: invalid value encountered in sqrt\n",
            "/usr/local/lib/python3.6/dist-packages/ipykernel_launcher.py:21: RuntimeWarning: invalid value encountered in sqrt\n",
            "/usr/local/lib/python3.6/dist-packages/ipykernel_launcher.py:21: RuntimeWarning: invalid value encountered in sqrt\n",
            "/usr/local/lib/python3.6/dist-packages/ipykernel_launcher.py:21: RuntimeWarning: invalid value encountered in sqrt\n"
          ],
          "name": "stderr"
        },
        {
          "output_type": "stream",
          "text": [
            "Finished generating trajectories for gamma = -1 in 53.320186138153076 seconds.\n",
            "\n",
            "\n",
            " Staring simulations on gamma = -0.5\n",
            "\n"
          ],
          "name": "stdout"
        },
        {
          "output_type": "stream",
          "text": [
            "/usr/local/lib/python3.6/dist-packages/ipykernel_launcher.py:21: RuntimeWarning: invalid value encountered in sqrt\n",
            "/usr/local/lib/python3.6/dist-packages/ipykernel_launcher.py:21: RuntimeWarning: invalid value encountered in sqrt\n",
            "/usr/local/lib/python3.6/dist-packages/ipykernel_launcher.py:21: RuntimeWarning: invalid value encountered in sqrt\n",
            "/usr/local/lib/python3.6/dist-packages/ipykernel_launcher.py:21: RuntimeWarning: invalid value encountered in sqrt\n"
          ],
          "name": "stderr"
        },
        {
          "output_type": "stream",
          "text": [
            "Finished generating trajectories for gamma = -0.5 in 53.07183790206909 seconds.\n",
            "\n",
            "\n",
            " Staring simulations on gamma = -0.2\n",
            "\n"
          ],
          "name": "stdout"
        },
        {
          "output_type": "stream",
          "text": [
            "/usr/local/lib/python3.6/dist-packages/ipykernel_launcher.py:21: RuntimeWarning: invalid value encountered in sqrt\n",
            "/usr/local/lib/python3.6/dist-packages/ipykernel_launcher.py:21: RuntimeWarning: invalid value encountered in sqrt\n",
            "/usr/local/lib/python3.6/dist-packages/ipykernel_launcher.py:21: RuntimeWarning: invalid value encountered in sqrt\n",
            "/usr/local/lib/python3.6/dist-packages/ipykernel_launcher.py:21: RuntimeWarning: invalid value encountered in sqrt\n"
          ],
          "name": "stderr"
        },
        {
          "output_type": "stream",
          "text": [
            "Finished generating trajectories for gamma = -0.2 in 53.47256922721863 seconds.\n",
            "\n",
            "\n",
            " Staring simulations on gamma = -0.1\n",
            "\n"
          ],
          "name": "stdout"
        },
        {
          "output_type": "stream",
          "text": [
            "/usr/local/lib/python3.6/dist-packages/ipykernel_launcher.py:21: RuntimeWarning: invalid value encountered in sqrt\n",
            "/usr/local/lib/python3.6/dist-packages/ipykernel_launcher.py:21: RuntimeWarning: invalid value encountered in sqrt\n",
            "/usr/local/lib/python3.6/dist-packages/ipykernel_launcher.py:21: RuntimeWarning: invalid value encountered in sqrt\n",
            "/usr/local/lib/python3.6/dist-packages/ipykernel_launcher.py:21: RuntimeWarning: invalid value encountered in sqrt\n"
          ],
          "name": "stderr"
        },
        {
          "output_type": "stream",
          "text": [
            "Finished generating trajectories for gamma = -0.1 in 53.29108190536499 seconds.\n",
            "\n",
            "\n",
            " Staring simulations on gamma = 0\n",
            "\n"
          ],
          "name": "stdout"
        },
        {
          "output_type": "stream",
          "text": [
            "/usr/local/lib/python3.6/dist-packages/ipykernel_launcher.py:21: RuntimeWarning: invalid value encountered in sqrt\n",
            "/usr/local/lib/python3.6/dist-packages/ipykernel_launcher.py:21: RuntimeWarning: invalid value encountered in sqrt\n",
            "/usr/local/lib/python3.6/dist-packages/ipykernel_launcher.py:21: RuntimeWarning: invalid value encountered in sqrt\n",
            "/usr/local/lib/python3.6/dist-packages/ipykernel_launcher.py:21: RuntimeWarning: invalid value encountered in sqrt\n"
          ],
          "name": "stderr"
        },
        {
          "output_type": "stream",
          "text": [
            "Finished generating trajectories for gamma = 0 in 53.3924024105072 seconds.\n",
            "\n",
            "\n",
            " Staring simulations on gamma = 0.1\n",
            "\n"
          ],
          "name": "stdout"
        },
        {
          "output_type": "stream",
          "text": [
            "/usr/local/lib/python3.6/dist-packages/ipykernel_launcher.py:21: RuntimeWarning: invalid value encountered in sqrt\n",
            "/usr/local/lib/python3.6/dist-packages/ipykernel_launcher.py:21: RuntimeWarning: invalid value encountered in sqrt\n",
            "/usr/local/lib/python3.6/dist-packages/ipykernel_launcher.py:21: RuntimeWarning: invalid value encountered in sqrt\n",
            "/usr/local/lib/python3.6/dist-packages/ipykernel_launcher.py:21: RuntimeWarning: invalid value encountered in sqrt\n"
          ],
          "name": "stderr"
        },
        {
          "output_type": "stream",
          "text": [
            "Finished generating trajectories for gamma = 0.1 in 54.1777880191803 seconds.\n",
            "\n",
            "\n",
            " Staring simulations on gamma = 0.2\n",
            "\n"
          ],
          "name": "stdout"
        },
        {
          "output_type": "stream",
          "text": [
            "/usr/local/lib/python3.6/dist-packages/ipykernel_launcher.py:21: RuntimeWarning: invalid value encountered in sqrt\n",
            "/usr/local/lib/python3.6/dist-packages/ipykernel_launcher.py:21: RuntimeWarning: invalid value encountered in sqrt\n",
            "/usr/local/lib/python3.6/dist-packages/ipykernel_launcher.py:21: RuntimeWarning: invalid value encountered in sqrt\n",
            "/usr/local/lib/python3.6/dist-packages/ipykernel_launcher.py:21: RuntimeWarning: invalid value encountered in sqrt\n"
          ],
          "name": "stderr"
        },
        {
          "output_type": "stream",
          "text": [
            "Finished generating trajectories for gamma = 0.2 in 53.22897219657898 seconds.\n",
            "\n",
            "\n",
            " Staring simulations on gamma = 0.5\n",
            "\n"
          ],
          "name": "stdout"
        },
        {
          "output_type": "stream",
          "text": [
            "/usr/local/lib/python3.6/dist-packages/ipykernel_launcher.py:21: RuntimeWarning: invalid value encountered in sqrt\n",
            "/usr/local/lib/python3.6/dist-packages/ipykernel_launcher.py:21: RuntimeWarning: invalid value encountered in sqrt\n",
            "/usr/local/lib/python3.6/dist-packages/ipykernel_launcher.py:21: RuntimeWarning: invalid value encountered in sqrt\n",
            "/usr/local/lib/python3.6/dist-packages/ipykernel_launcher.py:21: RuntimeWarning: invalid value encountered in sqrt\n"
          ],
          "name": "stderr"
        },
        {
          "output_type": "stream",
          "text": [
            "Finished generating trajectories for gamma = 0.5 in 53.11545276641846 seconds.\n",
            "\n",
            "\n",
            " Staring simulations on gamma = 0.8\n",
            "\n",
            "Finished generating trajectories for gamma = 0.8 in 53.18507719039917 seconds.\n",
            "\n",
            "\n",
            " Staring simulations on gamma = 0.9\n",
            "\n",
            "Finished generating trajectories for gamma = 0.9 in 53.60061049461365 seconds.\n",
            "\n",
            "\n",
            " Staring simulations on gamma = 1\n",
            "\n",
            "Finished generating trajectories for gamma = 1 in 53.22264885902405 seconds.\n",
            "\n",
            "\n",
            " Staring simulations on gamma = 1.1\n",
            "\n",
            "Finished generating trajectories for gamma = 1.1 in 53.11958694458008 seconds.\n",
            "\n",
            "\n",
            " Staring simulations on gamma = 1.2\n",
            "\n",
            "Finished generating trajectories for gamma = 1.2 in 53.33901071548462 seconds.\n",
            "\n",
            "\n",
            " Staring simulations on gamma = 1.5\n",
            "\n",
            "Finished generating trajectories for gamma = 1.5 in 53.44973421096802 seconds.\n",
            "\n",
            "\n",
            " Staring simulations on gamma = 2\n",
            "\n",
            "Finished generating trajectories for gamma = 2 in 53.07749962806702 seconds.\n",
            "\n",
            "\n",
            " Staring simulations on gamma = 2.5\n",
            "\n",
            "Finished generating trajectories for gamma = 2.5 in 53.44949746131897 seconds.\n",
            "\n",
            "\n",
            " Staring simulations on gamma = 3\n",
            "\n",
            "Finished generating trajectories for gamma = 3 in 53.48620557785034 seconds.\n",
            "\n",
            "Data saved to /content/gdrive/My Drive/MSc. Szakdolgozat/Data/ succefully. \n",
            "\n",
            "The simulation finished in 1138.043478012085 seconds.\n",
            "\n"
          ],
          "name": "stdout"
        }
      ]
    },
    {
      "cell_type": "markdown",
      "metadata": {
        "id": "Ms_EJOdA5rmd",
        "colab_type": "text"
      },
      "source": [
        "### 100"
      ]
    },
    {
      "cell_type": "code",
      "metadata": {
        "id": "QDlIRV-CE__B",
        "colab_type": "code",
        "outputId": "ef86cc1d-bd1d-456c-c8c7-3986f7072eb0",
        "colab": {
          "base_uri": "https://localhost:8080/",
          "height": 1000
        }
      },
      "source": [
        "#EXPERIMENT: Critical Behaviour (Feller Condition)\n",
        "#From bulk to boundary\n",
        "#gamma = 2*kappa*theta/sigma^2\n",
        "\n",
        "if __name__ == '__main__':\n",
        "  start_time = time.time()\n",
        "\n",
        "  model = 'CIR_'\n",
        "\n",
        "  name = 'phase_diagram_from_bulk_100'\n",
        "\n",
        "  #Iterable parameters:\n",
        "  all_params = namedtuple('all_params','X0 n_grid T kappa theta sigma alpha')\n",
        "  pp = all_params(X0 = 0.5, n_grid = 100, T = 1,kappa = 0.3, theta = 0.3, sigma = 0.6, alpha = 0.8)\n",
        "\n",
        "  gamma = [-2.5,-2,-1.5,-1,-0.5,-0.2,-0.1,0,0.1,0.2,0.5,0.8,0.9,1,1.1,1.2,1.5,2,2.5,3]\n",
        "  kappa = list(map(lambda p: p*np.power(pp.sigma,2)*(1/(2*pp.theta)),gamma))\n",
        "\n",
        "  #Generating ALL trajectories\n",
        "  X = np.zeros((len(gamma),mc_rep,pp.n_grid))\n",
        "  for i in range(len(kappa)):\n",
        "    print(f\"\\n Staring simulations on gamma = {gamma[i]}\\n\")\n",
        "    s_time = time.time()\n",
        "    j = 0\n",
        "    for x in CIR_mp(pp.X0,pp.n_grid,pp.T,kappa[i],pp.theta,pp.sigma,pp.alpha,sticky_boundary):\n",
        "      X[i,j,:] = x\n",
        "      j += 1\n",
        "    e_time = time.time()\n",
        "    print(f\"Finished generating trajectories for gamma = {gamma[i]} in {e_time-s_time} seconds.\\n\")\n",
        "\n",
        "\n",
        "\n",
        "\n",
        "  #Saving the Data\n",
        "  np.save(DATA_PATH + 'CIR_' + name + '_params' + '.npy',pp)\n",
        "  np.save(DATA_PATH + 'CIR_' + name + '_values' + '.npy',gamma) # SAVING THE USED PARAMETERS!!!\n",
        "  np.save(DATA_PATH + 'CIR_' + name + '.npy',X)\n",
        "  print(f\"Data saved to {DATA_PATH} succefully. \\n\")\n",
        "\n",
        "  end_time = time.time()\n",
        "  print(f\"The simulation finished in {end_time-start_time} seconds.\\n\")\n",
        "  del X"
      ],
      "execution_count": 0,
      "outputs": [
        {
          "output_type": "stream",
          "text": [
            "\n",
            " Staring simulations on gamma = -2.5\n",
            "\n"
          ],
          "name": "stdout"
        },
        {
          "output_type": "stream",
          "text": [
            "/usr/local/lib/python3.6/dist-packages/ipykernel_launcher.py:21: RuntimeWarning: invalid value encountered in sqrt\n",
            "/usr/local/lib/python3.6/dist-packages/ipykernel_launcher.py:21: RuntimeWarning: invalid value encountered in sqrt\n",
            "/usr/local/lib/python3.6/dist-packages/ipykernel_launcher.py:21: RuntimeWarning: invalid value encountered in sqrt\n",
            "/usr/local/lib/python3.6/dist-packages/ipykernel_launcher.py:21: RuntimeWarning: invalid value encountered in sqrt\n"
          ],
          "name": "stderr"
        },
        {
          "output_type": "stream",
          "text": [
            "Finished generating trajectories for gamma = -2.5 in 5.358294486999512 seconds.\n",
            "\n",
            "\n",
            " Staring simulations on gamma = -2\n",
            "\n"
          ],
          "name": "stdout"
        },
        {
          "output_type": "stream",
          "text": [
            "/usr/local/lib/python3.6/dist-packages/ipykernel_launcher.py:21: RuntimeWarning: invalid value encountered in sqrt\n",
            "/usr/local/lib/python3.6/dist-packages/ipykernel_launcher.py:21: RuntimeWarning: invalid value encountered in sqrt\n",
            "/usr/local/lib/python3.6/dist-packages/ipykernel_launcher.py:21: RuntimeWarning: invalid value encountered in sqrt\n",
            "/usr/local/lib/python3.6/dist-packages/ipykernel_launcher.py:21: RuntimeWarning: invalid value encountered in sqrt\n"
          ],
          "name": "stderr"
        },
        {
          "output_type": "stream",
          "text": [
            "Finished generating trajectories for gamma = -2 in 5.29456353187561 seconds.\n",
            "\n",
            "\n",
            " Staring simulations on gamma = -1.5\n",
            "\n"
          ],
          "name": "stdout"
        },
        {
          "output_type": "stream",
          "text": [
            "/usr/local/lib/python3.6/dist-packages/ipykernel_launcher.py:21: RuntimeWarning: invalid value encountered in sqrt\n",
            "/usr/local/lib/python3.6/dist-packages/ipykernel_launcher.py:21: RuntimeWarning: invalid value encountered in sqrt\n",
            "/usr/local/lib/python3.6/dist-packages/ipykernel_launcher.py:21: RuntimeWarning: invalid value encountered in sqrt\n",
            "/usr/local/lib/python3.6/dist-packages/ipykernel_launcher.py:21: RuntimeWarning: invalid value encountered in sqrt\n"
          ],
          "name": "stderr"
        },
        {
          "output_type": "stream",
          "text": [
            "Finished generating trajectories for gamma = -1.5 in 5.310186386108398 seconds.\n",
            "\n",
            "\n",
            " Staring simulations on gamma = -1\n",
            "\n"
          ],
          "name": "stdout"
        },
        {
          "output_type": "stream",
          "text": [
            "/usr/local/lib/python3.6/dist-packages/ipykernel_launcher.py:21: RuntimeWarning: invalid value encountered in sqrt\n",
            "/usr/local/lib/python3.6/dist-packages/ipykernel_launcher.py:21: RuntimeWarning: invalid value encountered in sqrt\n",
            "/usr/local/lib/python3.6/dist-packages/ipykernel_launcher.py:21: RuntimeWarning: invalid value encountered in sqrt\n",
            "/usr/local/lib/python3.6/dist-packages/ipykernel_launcher.py:21: RuntimeWarning: invalid value encountered in sqrt\n"
          ],
          "name": "stderr"
        },
        {
          "output_type": "stream",
          "text": [
            "Finished generating trajectories for gamma = -1 in 5.332503080368042 seconds.\n",
            "\n",
            "\n",
            " Staring simulations on gamma = -0.5\n",
            "\n"
          ],
          "name": "stdout"
        },
        {
          "output_type": "stream",
          "text": [
            "/usr/local/lib/python3.6/dist-packages/ipykernel_launcher.py:21: RuntimeWarning: invalid value encountered in sqrt\n",
            "/usr/local/lib/python3.6/dist-packages/ipykernel_launcher.py:21: RuntimeWarning: invalid value encountered in sqrt\n",
            "/usr/local/lib/python3.6/dist-packages/ipykernel_launcher.py:21: RuntimeWarning: invalid value encountered in sqrt\n",
            "/usr/local/lib/python3.6/dist-packages/ipykernel_launcher.py:21: RuntimeWarning: invalid value encountered in sqrt\n"
          ],
          "name": "stderr"
        },
        {
          "output_type": "stream",
          "text": [
            "Finished generating trajectories for gamma = -0.5 in 5.404168367385864 seconds.\n",
            "\n",
            "\n",
            " Staring simulations on gamma = -0.2\n",
            "\n"
          ],
          "name": "stdout"
        },
        {
          "output_type": "stream",
          "text": [
            "/usr/local/lib/python3.6/dist-packages/ipykernel_launcher.py:21: RuntimeWarning: invalid value encountered in sqrt\n",
            "/usr/local/lib/python3.6/dist-packages/ipykernel_launcher.py:21: RuntimeWarning: invalid value encountered in sqrt\n",
            "/usr/local/lib/python3.6/dist-packages/ipykernel_launcher.py:21: RuntimeWarning: invalid value encountered in sqrt\n",
            "/usr/local/lib/python3.6/dist-packages/ipykernel_launcher.py:21: RuntimeWarning: invalid value encountered in sqrt\n"
          ],
          "name": "stderr"
        },
        {
          "output_type": "stream",
          "text": [
            "Finished generating trajectories for gamma = -0.2 in 5.355164289474487 seconds.\n",
            "\n",
            "\n",
            " Staring simulations on gamma = -0.1\n",
            "\n"
          ],
          "name": "stdout"
        },
        {
          "output_type": "stream",
          "text": [
            "/usr/local/lib/python3.6/dist-packages/ipykernel_launcher.py:21: RuntimeWarning: invalid value encountered in sqrt\n",
            "/usr/local/lib/python3.6/dist-packages/ipykernel_launcher.py:21: RuntimeWarning: invalid value encountered in sqrt\n",
            "/usr/local/lib/python3.6/dist-packages/ipykernel_launcher.py:21: RuntimeWarning: invalid value encountered in sqrt\n",
            "/usr/local/lib/python3.6/dist-packages/ipykernel_launcher.py:21: RuntimeWarning: invalid value encountered in sqrt\n"
          ],
          "name": "stderr"
        },
        {
          "output_type": "stream",
          "text": [
            "Finished generating trajectories for gamma = -0.1 in 5.333269834518433 seconds.\n",
            "\n",
            "\n",
            " Staring simulations on gamma = 0\n",
            "\n"
          ],
          "name": "stdout"
        },
        {
          "output_type": "stream",
          "text": [
            "/usr/local/lib/python3.6/dist-packages/ipykernel_launcher.py:21: RuntimeWarning: invalid value encountered in sqrt\n",
            "/usr/local/lib/python3.6/dist-packages/ipykernel_launcher.py:21: RuntimeWarning: invalid value encountered in sqrt\n",
            "/usr/local/lib/python3.6/dist-packages/ipykernel_launcher.py:21: RuntimeWarning: invalid value encountered in sqrt\n",
            "/usr/local/lib/python3.6/dist-packages/ipykernel_launcher.py:21: RuntimeWarning: invalid value encountered in sqrt\n"
          ],
          "name": "stderr"
        },
        {
          "output_type": "stream",
          "text": [
            "Finished generating trajectories for gamma = 0 in 5.310390472412109 seconds.\n",
            "\n",
            "\n",
            " Staring simulations on gamma = 0.1\n",
            "\n"
          ],
          "name": "stdout"
        },
        {
          "output_type": "stream",
          "text": [
            "/usr/local/lib/python3.6/dist-packages/ipykernel_launcher.py:21: RuntimeWarning: invalid value encountered in sqrt\n",
            "/usr/local/lib/python3.6/dist-packages/ipykernel_launcher.py:21: RuntimeWarning: invalid value encountered in sqrt\n",
            "/usr/local/lib/python3.6/dist-packages/ipykernel_launcher.py:21: RuntimeWarning: invalid value encountered in sqrt\n",
            "/usr/local/lib/python3.6/dist-packages/ipykernel_launcher.py:21: RuntimeWarning: invalid value encountered in sqrt\n"
          ],
          "name": "stderr"
        },
        {
          "output_type": "stream",
          "text": [
            "Finished generating trajectories for gamma = 0.1 in 5.287887334823608 seconds.\n",
            "\n",
            "\n",
            " Staring simulations on gamma = 0.2\n",
            "\n"
          ],
          "name": "stdout"
        },
        {
          "output_type": "stream",
          "text": [
            "/usr/local/lib/python3.6/dist-packages/ipykernel_launcher.py:21: RuntimeWarning: invalid value encountered in sqrt\n",
            "/usr/local/lib/python3.6/dist-packages/ipykernel_launcher.py:21: RuntimeWarning: invalid value encountered in sqrt\n",
            "/usr/local/lib/python3.6/dist-packages/ipykernel_launcher.py:21: RuntimeWarning: invalid value encountered in sqrt\n",
            "/usr/local/lib/python3.6/dist-packages/ipykernel_launcher.py:21: RuntimeWarning: invalid value encountered in sqrt\n"
          ],
          "name": "stderr"
        },
        {
          "output_type": "stream",
          "text": [
            "Finished generating trajectories for gamma = 0.2 in 5.3165507316589355 seconds.\n",
            "\n",
            "\n",
            " Staring simulations on gamma = 0.5\n",
            "\n"
          ],
          "name": "stdout"
        },
        {
          "output_type": "stream",
          "text": [
            "/usr/local/lib/python3.6/dist-packages/ipykernel_launcher.py:21: RuntimeWarning: invalid value encountered in sqrt\n",
            "/usr/local/lib/python3.6/dist-packages/ipykernel_launcher.py:21: RuntimeWarning: invalid value encountered in sqrt\n",
            "/usr/local/lib/python3.6/dist-packages/ipykernel_launcher.py:21: RuntimeWarning: invalid value encountered in sqrt\n",
            "/usr/local/lib/python3.6/dist-packages/ipykernel_launcher.py:21: RuntimeWarning: invalid value encountered in sqrt\n"
          ],
          "name": "stderr"
        },
        {
          "output_type": "stream",
          "text": [
            "Finished generating trajectories for gamma = 0.5 in 5.354166507720947 seconds.\n",
            "\n",
            "\n",
            " Staring simulations on gamma = 0.8\n",
            "\n",
            "Finished generating trajectories for gamma = 0.8 in 5.340635776519775 seconds.\n",
            "\n",
            "\n",
            " Staring simulations on gamma = 0.9\n",
            "\n",
            "Finished generating trajectories for gamma = 0.9 in 5.293152809143066 seconds.\n",
            "\n",
            "\n",
            " Staring simulations on gamma = 1\n",
            "\n",
            "Finished generating trajectories for gamma = 1 in 5.313228368759155 seconds.\n",
            "\n",
            "\n",
            " Staring simulations on gamma = 1.1\n",
            "\n",
            "Finished generating trajectories for gamma = 1.1 in 5.32389235496521 seconds.\n",
            "\n",
            "\n",
            " Staring simulations on gamma = 1.2\n",
            "\n",
            "Finished generating trajectories for gamma = 1.2 in 5.421584844589233 seconds.\n",
            "\n",
            "\n",
            " Staring simulations on gamma = 1.5\n",
            "\n",
            "Finished generating trajectories for gamma = 1.5 in 5.364306211471558 seconds.\n",
            "\n",
            "\n",
            " Staring simulations on gamma = 2\n",
            "\n",
            "Finished generating trajectories for gamma = 2 in 5.312141418457031 seconds.\n",
            "\n",
            "\n",
            " Staring simulations on gamma = 2.5\n",
            "\n",
            "Finished generating trajectories for gamma = 2.5 in 5.325654983520508 seconds.\n",
            "\n",
            "\n",
            " Staring simulations on gamma = 3\n",
            "\n",
            "Finished generating trajectories for gamma = 3 in 5.343936204910278 seconds.\n",
            "\n",
            "Data saved to /content/gdrive/My Drive/MSc. Szakdolgozat/Data/ succefully. \n",
            "\n",
            "The simulation finished in 109.8107852935791 seconds.\n",
            "\n"
          ],
          "name": "stdout"
        }
      ]
    },
    {
      "cell_type": "markdown",
      "metadata": {
        "id": "eVHDt2pJ5t2Z",
        "colab_type": "text"
      },
      "source": [
        "### 10"
      ]
    },
    {
      "cell_type": "code",
      "metadata": {
        "id": "-csX0X9fE_lG",
        "colab_type": "code",
        "colab": {}
      },
      "source": [
        "#EXPERIMENT: Critical Behaviour (Feller Condition)\n",
        "#From bulk to boundary\n",
        "#gamma = 2*kappa*theta/sigma^2\n",
        "\n",
        "if __name__ == '__main__':\n",
        "  start_time = time.time()\n",
        "\n",
        "  model = 'CIR_'\n",
        "\n",
        "  name = 'phase_diagram_from_bulk_10'\n",
        "\n",
        "  #Iterable parameters:\n",
        "  all_params = namedtuple('all_params','X0 n_grid T kappa theta sigma alpha')\n",
        "  pp = all_params(X0 = 0.5, n_grid = 10, T = 1,kappa = 0.3, theta = 0.3, sigma = 0.6, alpha = 0.8)\n",
        "\n",
        "  gamma = [-2.5,-2,-1.5,-1,-0.5,-0.2,-0.1,0,0.1,0.2,0.5,0.8,0.9,1,1.1,1.2,1.5,2,2.5,3]\n",
        "\n",
        "  #Generating ALL trajectories\n",
        "  X = []\n",
        "  for j in range(0,len(gamma)):\n",
        "    print(f\"\\n Staring simulations on gamma = {gamma[j]}\\n\")\n",
        "    s_time = time.time()\n",
        "    kappa = gamma[j]*np.power(pp.sigma,2)*(1/(2*pp.theta))\n",
        "    X.append(CIR_mp(pp.X0,pp.n_grid,pp.T,kappa,pp.theta,pp.sigma,pp.alpha,sticky_boundary))\n",
        "    e_time = time.time()-s_time\n",
        "    print(f\"Finished generating trajectories for gamma = {gamma[j]} in {e_time} seconds.\\n\")\n",
        "  kappa = list(map(lambda p: p*np.power(pp.sigma,2)*(1/(2*pp.theta)),gamma))\n",
        "\n",
        "  #Generating ALL trajectories\n",
        "  X = np.zeros((len(gamma),mc_rep,pp.n_grid))\n",
        "  for i in range(len(kappa)):\n",
        "    print(f\"\\n Staring simulations on gamma = {gamma[i]}\\n\")\n",
        "    s_time = time.time()\n",
        "    j = 0\n",
        "    for x in CIR_mp(pp.X0,pp.n_grid,pp.T,kappa[i],pp.theta,pp.sigma,pp.alpha,sticky_boundary):\n",
        "      X[i,j,:] = x\n",
        "      j += 1\n",
        "    e_time = time.time()\n",
        "    print(f\"Finished generating trajectories for gamma = {gamma[i]} in {e_time-s_time} seconds.\\n\")\n",
        "\n",
        "\n",
        "\n",
        "\n",
        "  #Saving the Data\n",
        "  np.save(DATA_PATH + 'CIR_' + name + '_params' + '.npy',pp)\n",
        "  np.save(DATA_PATH + 'CIR_' + name + '_values' + '.npy',gamma) # SAVING THE USED PARAMETERS!!!\n",
        "  np.save(DATA_PATH + 'CIR_' + name + '.npy',X)\n",
        "  print(f\"Data saved to {DATA_PATH} succefully. \\n\")\n",
        "\n",
        "  end_time = time.time()\n",
        "  print(f\"The simulation finished in {end_time-start_time} seconds.\\n\")\n",
        "  del X"
      ],
      "execution_count": 0,
      "outputs": []
    },
    {
      "cell_type": "markdown",
      "metadata": {
        "id": "8jP6fGd3FgGq",
        "colab_type": "text"
      },
      "source": [
        "----"
      ]
    },
    {
      "cell_type": "markdown",
      "metadata": {
        "id": "NX0kPcSfFVEy",
        "colab_type": "text"
      },
      "source": [
        "##From boundary to bulk"
      ]
    },
    {
      "cell_type": "markdown",
      "metadata": {
        "id": "twoIHicUpCYR",
        "colab_type": "text"
      },
      "source": [
        "### 10k"
      ]
    },
    {
      "cell_type": "code",
      "metadata": {
        "id": "m_4IiPpb88mF",
        "colab_type": "code",
        "outputId": "20071176-d76c-4740-a0f5-48af88bbca6b",
        "colab": {
          "base_uri": "https://localhost:8080/",
          "height": 782
        }
      },
      "source": [
        "#EXPERIMENT: Critical Behaviour (Feller Condition)\n",
        "#From boundary to bulk\n",
        "#Part I.\n",
        "#gamma = 2*kappa*theta/sigma^2\n",
        "\n",
        "if __name__ == '__main__':\n",
        "  start_time = time.time()\n",
        "\n",
        "  model = 'CIR_'\n",
        "\n",
        "  name = 'phase_diagram_from_boundary_10k'\n",
        "\n",
        "  part = '_part_1'\n",
        "\n",
        "  #Iterable parameters:\n",
        "  all_params = namedtuple('all_params','X0 n_grid T kappa theta sigma alpha')\n",
        "  pp = all_params(X0 = 0, n_grid = 10000, T = 1,kappa = 0.3, theta = 0.3, sigma = 0.6, alpha = 0.8)\n",
        "\n",
        "  gamma = [-2,-1,0,0.5,0.6]\n",
        "  kappa = list(map(lambda p: p*np.power(pp.sigma,2)*(1/(2*pp.theta)),gamma))\n",
        "\n",
        "  #Generating ALL trajectories\n",
        "  X = np.zeros((len(gamma),mc_rep,pp.n_grid))\n",
        "  for i in range(len(kappa)):\n",
        "    print(f\"\\n Staring simulations on gamma = {gamma[i]}\\n\")\n",
        "    s_time = time.time()\n",
        "    j = 0\n",
        "    for x in CIR_mp(pp.X0,pp.n_grid,pp.T,kappa[i],pp.theta,pp.sigma,pp.alpha,sticky_boundary):\n",
        "      X[i,j,:] = x\n",
        "      j += 1\n",
        "    e_time = time.time()\n",
        "    print(f\"Finished generating trajectories for gamma = {gamma[i]} in {e_time-s_time} seconds.\\n\")\n",
        "\n",
        "\n",
        "\n",
        "\n",
        "  #Saving the Data\n",
        "  np.save(DATA_PATH + 'CIR_' + name + part + '_params' + '.npy',pp)\n",
        "  np.save(DATA_PATH + 'CIR_' + name + part + '_values' + '.npy',gamma) # SAVING THE USED PARAMETERS!!!\n",
        "  np.save(DATA_PATH + 'CIR_' + name + part + '.npy',X)\n",
        "  print(f\"Data saved to {DATA_PATH} succefully. \\n\")\n",
        "\n",
        "  end_time = time.time()\n",
        "  print(f\"The simulation finished in {end_time-start_time} seconds.\\n\")\n",
        "  del X"
      ],
      "execution_count": 0,
      "outputs": [
        {
          "output_type": "stream",
          "text": [
            "\n",
            " Staring simulations on gamma = -2\n",
            "\n"
          ],
          "name": "stdout"
        },
        {
          "output_type": "stream",
          "text": [
            "/usr/local/lib/python3.6/dist-packages/ipykernel_launcher.py:21: RuntimeWarning: invalid value encountered in sqrt\n",
            "/usr/local/lib/python3.6/dist-packages/ipykernel_launcher.py:21: RuntimeWarning: invalid value encountered in sqrt\n",
            "/usr/local/lib/python3.6/dist-packages/ipykernel_launcher.py:21: RuntimeWarning: invalid value encountered in sqrt\n",
            "/usr/local/lib/python3.6/dist-packages/ipykernel_launcher.py:21: RuntimeWarning: invalid value encountered in sqrt\n"
          ],
          "name": "stderr"
        },
        {
          "output_type": "stream",
          "text": [
            "Finished generating trajectories for gamma = -2 in 564.5745844841003 seconds.\n",
            "\n",
            "\n",
            " Staring simulations on gamma = -1\n",
            "\n"
          ],
          "name": "stdout"
        },
        {
          "output_type": "stream",
          "text": [
            "/usr/local/lib/python3.6/dist-packages/ipykernel_launcher.py:21: RuntimeWarning: invalid value encountered in sqrt\n",
            "/usr/local/lib/python3.6/dist-packages/ipykernel_launcher.py:21: RuntimeWarning: invalid value encountered in sqrt\n",
            "/usr/local/lib/python3.6/dist-packages/ipykernel_launcher.py:21: RuntimeWarning: invalid value encountered in sqrt\n",
            "/usr/local/lib/python3.6/dist-packages/ipykernel_launcher.py:21: RuntimeWarning: invalid value encountered in sqrt\n"
          ],
          "name": "stderr"
        },
        {
          "output_type": "stream",
          "text": [
            "Finished generating trajectories for gamma = -1 in 669.0690138339996 seconds.\n",
            "\n",
            "\n",
            " Staring simulations on gamma = 0\n",
            "\n"
          ],
          "name": "stdout"
        },
        {
          "output_type": "stream",
          "text": [
            "/usr/local/lib/python3.6/dist-packages/ipykernel_launcher.py:21: RuntimeWarning: invalid value encountered in sqrt\n",
            "/usr/local/lib/python3.6/dist-packages/ipykernel_launcher.py:21: RuntimeWarning: invalid value encountered in sqrt\n",
            "/usr/local/lib/python3.6/dist-packages/ipykernel_launcher.py:21: RuntimeWarning: invalid value encountered in sqrt\n",
            "/usr/local/lib/python3.6/dist-packages/ipykernel_launcher.py:21: RuntimeWarning: invalid value encountered in sqrt\n"
          ],
          "name": "stderr"
        },
        {
          "output_type": "stream",
          "text": [
            "Finished generating trajectories for gamma = 0 in 659.4414763450623 seconds.\n",
            "\n",
            "\n",
            " Staring simulations on gamma = 0.5\n",
            "\n"
          ],
          "name": "stdout"
        },
        {
          "output_type": "stream",
          "text": [
            "/usr/local/lib/python3.6/dist-packages/ipykernel_launcher.py:21: RuntimeWarning: invalid value encountered in sqrt\n",
            "/usr/local/lib/python3.6/dist-packages/ipykernel_launcher.py:21: RuntimeWarning: invalid value encountered in sqrt\n",
            "/usr/local/lib/python3.6/dist-packages/ipykernel_launcher.py:21: RuntimeWarning: invalid value encountered in sqrt\n",
            "/usr/local/lib/python3.6/dist-packages/ipykernel_launcher.py:21: RuntimeWarning: invalid value encountered in sqrt\n"
          ],
          "name": "stderr"
        },
        {
          "output_type": "stream",
          "text": [
            "Finished generating trajectories for gamma = 0.5 in 600.6867589950562 seconds.\n",
            "\n",
            "\n",
            " Staring simulations on gamma = 0.6\n",
            "\n",
            "Finished generating trajectories for gamma = 0.6 in 553.723103761673 seconds.\n",
            "\n",
            "Data saved to /content/gdrive/My Drive/MSc. Szakdolgozat/Data/ succefully. \n",
            "\n",
            "The simulation finished in 3148.1829755306244 seconds.\n",
            "\n"
          ],
          "name": "stdout"
        }
      ]
    },
    {
      "cell_type": "code",
      "metadata": {
        "id": "JD2skw_Opbwp",
        "colab_type": "code",
        "outputId": "74e2a955-ee2f-4d11-94b0-4a603241f633",
        "colab": {
          "base_uri": "https://localhost:8080/",
          "height": 323
        }
      },
      "source": [
        "#EXPERIMENT: Critical Behaviour (Feller Condition)\n",
        "#From boundary to bulk\n",
        "#Part II.\n",
        "#gamma = 2*kappa*theta/sigma^2\n",
        "\n",
        "if __name__ == '__main__':\n",
        "  start_time = time.time()\n",
        "\n",
        "  model = 'CIR_'\n",
        "\n",
        "  name = 'phase_diagram_from_boundary_10k'\n",
        "\n",
        "  part = '_part_2'\n",
        "\n",
        "  #Iterable parameters:\n",
        "  all_params = namedtuple('all_params','X0 n_grid T kappa theta sigma alpha')\n",
        "  pp = all_params(X0 = 0, n_grid = 10000, T = 1,kappa = 0.3, theta = 0.3, sigma = 0.6, alpha = 0.8)\n",
        "\n",
        "  gamma = [0.7,0.8,0.9,1,1.1]\n",
        "  kappa = list(map(lambda p: p*np.power(pp.sigma,2)*(1/(2*pp.theta)),gamma))\n",
        "\n",
        "  #Generating ALL trajectories\n",
        "  X = np.zeros((len(gamma),mc_rep,pp.n_grid))\n",
        "  for i in range(len(kappa)):\n",
        "    print(f\"\\n Staring simulations on gamma = {gamma[i]}\\n\")\n",
        "    s_time = time.time()\n",
        "    j = 0\n",
        "    for x in CIR_mp(pp.X0,pp.n_grid,pp.T,kappa[i],pp.theta,pp.sigma,pp.alpha,sticky_boundary):\n",
        "      X[i,j,:] = x\n",
        "      j += 1\n",
        "    e_time = time.time()\n",
        "    print(f\"Finished generating trajectories for gamma = {gamma[i]} in {e_time-s_time} seconds.\\n\")\n",
        "\n",
        "\n",
        "\n",
        "\n",
        "  #Saving the Data\n",
        "  np.save(DATA_PATH + 'CIR_' + name + part + '_params' + '.npy',pp)\n",
        "  np.save(DATA_PATH + 'CIR_' + name + part + '_values' + '.npy',gamma) # SAVING THE USED PARAMETERS!!!\n",
        "  np.save(DATA_PATH + 'CIR_' + name + part + '.npy',X)\n",
        "  print(f\"Data saved to {DATA_PATH} succefully. \\n\")\n",
        "\n",
        "  end_time = time.time()\n",
        "  print(f\"The simulation finished in {end_time-start_time} seconds.\\n\")\n",
        "  del X"
      ],
      "execution_count": 0,
      "outputs": [
        {
          "output_type": "stream",
          "text": [
            "\n",
            " Staring simulations on gamma = 0.7\n",
            "\n",
            "Finished generating trajectories for gamma = 0.7 in 559.3520951271057 seconds.\n",
            "\n",
            "\n",
            " Staring simulations on gamma = 0.8\n",
            "\n",
            "Finished generating trajectories for gamma = 0.8 in 550.8121597766876 seconds.\n",
            "\n",
            "\n",
            " Staring simulations on gamma = 0.9\n",
            "\n",
            "Finished generating trajectories for gamma = 0.9 in 551.5026867389679 seconds.\n",
            "\n",
            "\n",
            " Staring simulations on gamma = 1\n",
            "\n"
          ],
          "name": "stdout"
        }
      ]
    },
    {
      "cell_type": "code",
      "metadata": {
        "id": "r8XZ6owZpdAk",
        "colab_type": "code",
        "colab": {}
      },
      "source": [
        "#EXPERIMENT: Critical Behaviour (Feller Condition)\n",
        "#From boundary to bulk\n",
        "#Part III.\n",
        "#gamma = 2*kappa*theta/sigma^2\n",
        "\n",
        "if __name__ == '__main__':\n",
        "  start_time = time.time()\n",
        "\n",
        "  model = 'CIR_'\n",
        "\n",
        "  name = 'phase_diagram_from_boundary_10k'\n",
        "\n",
        "  part = '_part_3'\n",
        "\n",
        "  #Iterable parameters:\n",
        "  all_params = namedtuple('all_params','X0 n_grid T kappa theta sigma alpha')\n",
        "  pp = all_params(X0 = 0, n_grid = 10000, T = 1,kappa = 0.3, theta = 0.3, sigma = 0.6, alpha = 0.8)\n",
        "\n",
        "  gamma = [1.2,1.3,1.4,1.5,2]\n",
        "  kappa = list(map(lambda p: p*np.power(pp.sigma,2)*(1/(2*pp.theta)),gamma))\n",
        "\n",
        "  #Generating ALL trajectories\n",
        "  X = np.zeros((len(gamma),mc_rep,pp.n_grid))\n",
        "  for i in range(len(kappa)):\n",
        "    print(f\"\\n Staring simulations on gamma = {gamma[i]}\\n\")\n",
        "    s_time = time.time()\n",
        "    j = 0\n",
        "    for x in CIR_mp(pp.X0,pp.n_grid,pp.T,kappa[i],pp.theta,pp.sigma,pp.alpha,sticky_boundary):\n",
        "      X[i,j,:] = x\n",
        "      j += 1\n",
        "    e_time = time.time()\n",
        "    print(f\"Finished generating trajectories for gamma = {gamma[i]} in {e_time-s_time} seconds.\\n\")\n",
        "\n",
        "\n",
        "\n",
        "\n",
        "  #Saving the Data\n",
        "  np.save(DATA_PATH + 'CIR_' + name + part + '_params' + '.npy',pp)\n",
        "  np.save(DATA_PATH + 'CIR_' + name + part + '_values' + '.npy',gamma) # SAVING THE USED PARAMETERS!!!\n",
        "  np.save(DATA_PATH + 'CIR_' + name + part + '.npy',X)\n",
        "  print(f\"Data saved to {DATA_PATH} succefully. \\n\")\n",
        "\n",
        "  end_time = time.time()\n",
        "  print(f\"The simulation finished in {end_time-start_time} seconds.\\n\")\n",
        "  del X"
      ],
      "execution_count": 0,
      "outputs": []
    },
    {
      "cell_type": "code",
      "metadata": {
        "id": "usun9Sszphcz",
        "colab_type": "code",
        "outputId": "f4a649b4-d152-4ba5-cadf-e415a4e97968",
        "colab": {
          "base_uri": "https://localhost:8080/",
          "height": 510
        }
      },
      "source": [
        "#EXPERIMENT: Critical Behaviour (Feller Condition)\n",
        "#From boundary to bulk\n",
        "#Part IV.\n",
        "#gamma = 2*kappa*theta/sigma^2\n",
        "\n",
        "if __name__ == '__main__':\n",
        "  start_time = time.time()\n",
        "\n",
        "  model = 'CIR_'\n",
        "\n",
        "  name = 'phase_diagram_from_boundary_10k'\n",
        " \n",
        "  part = '_part_4'\n",
        "\n",
        "  #Iterable parameters:\n",
        "  all_params = namedtuple('all_params','X0 n_grid T kappa theta sigma alpha')\n",
        "  pp = all_params(X0 = 0, n_grid = 10000, T = 1,kappa = 0.3, theta = 0.3, sigma = 0.6, alpha = 0.8)\n",
        "\n",
        "  gamma = [2.5,3,3.5,4,5] \n",
        "  kappa = list(map(lambda p: p*np.power(pp.sigma,2)*(1/(2*pp.theta)),gamma))\n",
        "\n",
        "  #Generating ALL trajectories\n",
        "  X = np.zeros((len(gamma),mc_rep,pp.n_grid))\n",
        "  for i in range(len(kappa)):\n",
        "    print(f\"\\n Staring simulations on gamma = {gamma[i]}\\n\")\n",
        "    s_time = time.time()\n",
        "    j = 0\n",
        "    for x in CIR_mp(pp.X0,pp.n_grid,pp.T,kappa[i],pp.theta,pp.sigma,pp.alpha,sticky_boundary):\n",
        "      X[i,j,:] = x\n",
        "      j += 1\n",
        "    e_time = time.time()\n",
        "    print(f\"Finished generating trajectories for gamma = {gamma[i]} in {e_time-s_time} seconds.\\n\")\n",
        "\n",
        "\n",
        "\n",
        "\n",
        "  #Saving the Data\n",
        "  np.save(DATA_PATH + 'CIR_' + name + part + '_params' + '.npy',pp)\n",
        "  np.save(DATA_PATH + 'CIR_' + name + part + '_values' + '.npy',gamma) # SAVING THE USED PARAMETERS!!!\n",
        "  np.save(DATA_PATH + 'CIR_' + name + part + '.npy',X)\n",
        "  print(f\"Data saved to {DATA_PATH} succefully. \\n\")\n",
        "\n",
        "  end_time = time.time()\n",
        "  print(f\"The simulation finished in {end_time-start_time} seconds.\\n\")\n",
        "  del X"
      ],
      "execution_count": 0,
      "outputs": [
        {
          "output_type": "stream",
          "text": [
            "\n",
            " Staring simulations on gamma = 2.5\n",
            "\n",
            "Finished generating trajectories for gamma = 2.5 in 0.6426856517791748 seconds.\n",
            "\n",
            "\n",
            " Staring simulations on gamma = 3\n",
            "\n",
            "Finished generating trajectories for gamma = 3 in 0.629406213760376 seconds.\n",
            "\n",
            "\n",
            " Staring simulations on gamma = 3.5\n",
            "\n",
            "Finished generating trajectories for gamma = 3.5 in 0.6331160068511963 seconds.\n",
            "\n",
            "\n",
            " Staring simulations on gamma = 4\n",
            "\n",
            "Finished generating trajectories for gamma = 4 in 0.6747739315032959 seconds.\n",
            "\n",
            "\n",
            " Staring simulations on gamma = 5\n",
            "\n",
            "Finished generating trajectories for gamma = 5 in 0.6549215316772461 seconds.\n",
            "\n",
            "Data saved to /content/gdrive/My Drive/MSc. Szakdolgozat/Data/ succefully. \n",
            "\n",
            "The simulation finished in 3.2695608139038086 seconds.\n",
            "\n"
          ],
          "name": "stdout"
        }
      ]
    },
    {
      "cell_type": "markdown",
      "metadata": {
        "id": "-VrU7-EZpFA2",
        "colab_type": "text"
      },
      "source": [
        "### 1k"
      ]
    },
    {
      "cell_type": "code",
      "metadata": {
        "id": "OSJBN4GLBY80",
        "colab_type": "code",
        "colab": {}
      },
      "source": [
        "#EXPERIMENT: Critical Behaviour (Feller Condition)\n",
        "#From boundary to bulk\n",
        "#gamma = 2*kappa*theta/sigma^2\n",
        "\n",
        "if __name__ == '__main__':\n",
        "  start_time = time.time()\n",
        "\n",
        "  model = 'CIR_'\n",
        "\n",
        "  name = 'phase_diagram_from_boundary_1k'\n",
        "\n",
        "  #Iterable parameters:\n",
        "  all_params = namedtuple('all_params','X0 n_grid T kappa theta sigma alpha')\n",
        "  pp = all_params(X0 = 0, n_grid = 1000, T = 1,kappa = 0.3, theta = 0.3, sigma = 0.6, alpha = 0.8)\n",
        "\n",
        "  gamma = [-2,-1,0,0.5,0.6,0.7,0.8,0.9,1,1.1,1.2,1.3,1.4,1.5,2,2.5,3,3.5,4,5]\n",
        "  kappa = list(map(lambda p: p*np.power(pp.sigma,2)*(1/(2*pp.theta)),gamma))\n",
        "\n",
        "  #Generating ALL trajectories\n",
        "  X = np.zeros((len(gamma),mc_rep,pp.n_grid))\n",
        "  for i in range(len(kappa)):\n",
        "    print(f\"\\n Staring simulations on gamma = {gamma[i]}\\n\")\n",
        "    s_time = time.time()\n",
        "    j = 0\n",
        "    for x in CIR_mp(pp.X0,pp.n_grid,pp.T,kappa[i],pp.theta,pp.sigma,pp.alpha,sticky_boundary):\n",
        "      X[i,j,:] = x\n",
        "      j += 1\n",
        "    e_time = time.time()\n",
        "    print(f\"Finished generating trajectories for gamma = {gamma[i]} in {e_time-s_time} seconds.\\n\")\n",
        "\n",
        "\n",
        "\n",
        "\n",
        "  #Saving the Data\n",
        "  np.save(DATA_PATH + 'CIR_' + name + '_params' + '.npy',pp)\n",
        "  np.save(DATA_PATH + 'CIR_' + name + '_values' + '.npy',gamma) # SAVING THE USED PARAMETERS!!!\n",
        "  np.save(DATA_PATH + 'CIR_' + name + '.npy',X)\n",
        "  print(f\"Data saved to {DATA_PATH} succefully. \\n\")\n",
        "\n",
        "  end_time = time.time()\n",
        "  print(f\"The simulation finished in {end_time-start_time} seconds.\\n\")\n",
        "  del X"
      ],
      "execution_count": 0,
      "outputs": []
    },
    {
      "cell_type": "markdown",
      "metadata": {
        "id": "TySDhnXKpFoM",
        "colab_type": "text"
      },
      "source": [
        "### 100"
      ]
    },
    {
      "cell_type": "code",
      "metadata": {
        "id": "Z2TsFg6zKLBf",
        "colab_type": "code",
        "colab": {}
      },
      "source": [
        "#EXPERIMENT: Critical Behaviour (Feller Condition)\n",
        "#From boundary to bulk\n",
        "#gamma = 2*kappa*theta/sigma^2\n",
        "\n",
        "if __name__ == '__main__':\n",
        "  start_time = time.time()\n",
        "\n",
        "  model = 'CIR_'\n",
        "\n",
        "  name = 'phase_diagram_from_boundary_100'\n",
        "\n",
        "  #Iterable parameters:\n",
        "  all_params = namedtuple('all_params','X0 n_grid T kappa theta sigma alpha')\n",
        "  pp = all_params(X0 = 0, n_grid = 100, T = 1,kappa = 0.3, theta = 0.3, sigma = 0.6, alpha = 0.8)\n",
        "\n",
        "  gamma = [-2,-1,0,0.5,0.6,0.7,0.8,0.9,1,1.1,1.2,1.3,1.4,1.5,2,2.5,3,3.5,4,5]\n",
        "  kappa = list(map(lambda p: p*np.power(pp.sigma,2)*(1/(2*pp.theta)),gamma))\n",
        "\n",
        "  #Generating ALL trajectories\n",
        "  X = np.zeros((len(gamma),mc_rep,pp.n_grid))\n",
        "  for i in range(len(kappa)):\n",
        "    print(f\"\\n Staring simulations on gamma = {gamma[i]}\\n\")\n",
        "    s_time = time.time()\n",
        "    j = 0\n",
        "    for x in CIR_mp(pp.X0,pp.n_grid,pp.T,kappa[i],pp.theta,pp.sigma,pp.alpha,sticky_boundary):\n",
        "      X[i,j,:] = x\n",
        "      j += 1\n",
        "    e_time = time.time()\n",
        "    print(f\"Finished generating trajectories for gamma = {gamma[i]} in {e_time-s_time} seconds.\\n\")\n",
        "\n",
        "\n",
        "\n",
        "\n",
        "  #Saving the Data\n",
        "  np.save(DATA_PATH + 'CIR_' + name + '_params' + '.npy',pp)\n",
        "  np.save(DATA_PATH + 'CIR_' + name + '_values' + '.npy',gamma) # SAVING THE USED PARAMETERS!!!\n",
        "  np.save(DATA_PATH + 'CIR_' + name + '.npy',X)\n",
        "  print(f\"Data saved to {DATA_PATH} succefully. \\n\")\n",
        "\n",
        "  end_time = time.time()\n",
        "  print(f\"The simulation finished in {end_time-start_time} seconds.\\n\")\n",
        "  del X"
      ],
      "execution_count": 0,
      "outputs": []
    },
    {
      "cell_type": "markdown",
      "metadata": {
        "id": "jCxGk7KTpGOg",
        "colab_type": "text"
      },
      "source": [
        "### 10"
      ]
    },
    {
      "cell_type": "code",
      "metadata": {
        "id": "ppx1qaVrKLX2",
        "colab_type": "code",
        "colab": {}
      },
      "source": [
        "#EXPERIMENT: Critical Behaviour (Feller Condition)\n",
        "#From boundary to bulk\n",
        "#gamma = 2*kappa*theta/sigma^2\n",
        "\n",
        "if __name__ == '__main__':\n",
        "  start_time = time.time()\n",
        "\n",
        "  model = 'CIR_'\n",
        "\n",
        "  name = 'phase_diagram_from_boundary_10'\n",
        "\n",
        "  #Iterable parameters:\n",
        "  all_params = namedtuple('all_params','X0 n_grid T kappa theta sigma alpha')\n",
        "  pp = all_params(X0 = 0, n_grid = 10, T = 1,kappa = 0.3, theta = 0.3, sigma = 0.6, alpha = 0.8)\n",
        "\n",
        "  gamma = [-2,-1,0,0.5,0.6,0.7,0.8,0.9,1,1.1,1.2,1.3,1.4,1.5,2,2.5,3,3.5,4,5]\n",
        "  kappa = list(map(lambda p: p*np.power(pp.sigma,2)*(1/(2*pp.theta)),gamma))\n",
        "\n",
        "  #Generating ALL trajectories\n",
        "  X = np.zeros((len(gamma),mc_rep,pp.n_grid))\n",
        "  for i in range(len(kappa)):\n",
        "    print(f\"\\n Staring simulations on gamma = {gamma[i]}\\n\")\n",
        "    s_time = time.time()\n",
        "    j = 0\n",
        "    for x in CIR_mp(pp.X0,pp.n_grid,pp.T,kappa[i],pp.theta,pp.sigma,pp.alpha,sticky_boundary):\n",
        "      X[i,j,:] = x\n",
        "      j += 1\n",
        "    e_time = time.time()\n",
        "    print(f\"Finished generating trajectories for gamma = {gamma[i]} in {e_time-s_time} seconds.\\n\")\n",
        "\n",
        "\n",
        "\n",
        "\n",
        "  #Saving the Data\n",
        "  np.save(DATA_PATH + 'CIR_' + name + '_params' + '.npy',pp)\n",
        "  np.save(DATA_PATH + 'CIR_' + name + '_values' + '.npy',gamma) # SAVING THE USED PARAMETERS!!!\n",
        "  np.save(DATA_PATH + 'CIR_' + name + '.npy',X)\n",
        "  print(f\"Data saved to {DATA_PATH} succefully. \\n\")\n",
        "\n",
        "  end_time = time.time()\n",
        "  print(f\"The simulation finished in {end_time-start_time} seconds.\\n\")\n",
        "  del X"
      ],
      "execution_count": 0,
      "outputs": []
    },
    {
      "cell_type": "markdown",
      "metadata": {
        "id": "PDuw9izhj5jJ",
        "colab_type": "text"
      },
      "source": [
        "---"
      ]
    },
    {
      "cell_type": "markdown",
      "metadata": {
        "id": "YiK_zcTa3SDC",
        "colab_type": "text"
      },
      "source": [
        "## Alpha"
      ]
    },
    {
      "cell_type": "markdown",
      "metadata": {
        "id": "eFZorwt0lXE_",
        "colab_type": "text"
      },
      "source": [
        "Q:How does the alpha parameter influence the distribution?\n",
        "\n",
        "A:It doesn't."
      ]
    },
    {
      "cell_type": "code",
      "metadata": {
        "id": "gYNXw1R73USP",
        "colab_type": "code",
        "colab": {}
      },
      "source": [
        "#EXPERIMENT: Alpha dependance of the model\n",
        "#gamma = 2*kappa*theta/sigma^2\n",
        "\n",
        "if __name__ == '__main__':\n",
        "  start_time = time.time()\n",
        "  model = 'CIR_'\n",
        "\n",
        "  name = 'alpha_dependance'\n",
        "\n",
        "  #Iterable parameters:\n",
        "  all_params = namedtuple('all_params','X0 n_grid T repeat kappa theta sigma alpha')\n",
        "  pp = all_params(X0 = 0.5, n_grid = 1000, T = 1, repeat = 1,kappa = 2.4, theta = 0.3, sigma = 0.6, alpha = 0.8)\n",
        "\n",
        "  alpha = [0,0.1,0.5,0.8,1]\n",
        "\n",
        "  #Generating ALL trajectories\n",
        "  X = np.zeros((len(alpha),mc_rep,pp.n_grid))\n",
        "  for i in range(len(alpha)):\n",
        "    print(f\"\\n Staring simulations on alpha = {alpha[i]}\\n\")\n",
        "    s_time = time.time()\n",
        "    j = 0\n",
        "    for x in CIR_mp(pp.X0,pp.n_grid,pp.T,pp.kappa,pp.theta,pp.sigma,alpha,sticky_boundary):\n",
        "      X[i,j,:] = x\n",
        "      j += 1\n",
        "    e_time = time.time()\n",
        "    print(f\"Finished generating trajectories for alpha = {alpha[i]} in {e_time-s_time} seconds.\\n\")\n",
        "\n",
        "\n",
        "\n",
        "\n",
        "  #Saving the Data\n",
        "  np.save(DATA_PATH + 'CIR_' + name + '_params' + '.npy',pp)\n",
        "  np.save(DATA_PATH + 'CIR_' + name + '_values' + '.npy',alpha) # SAVING THE USED PARAMETERS!!!\n",
        "  np.save(DATA_PATH + 'CIR_' + name + '.npy',X)\n",
        "  print(f\"Data saved to {DATA_PATH} succefully. \\n\")\n",
        "\n",
        "  end_time = time.time()\n",
        "  print(f\"The simulation finished in {end_time-start_time} seconds.\\n\")\n",
        "  del X"
      ],
      "execution_count": 0,
      "outputs": []
    },
    {
      "cell_type": "markdown",
      "metadata": {
        "id": "aE-cNESO3Uob",
        "colab_type": "text"
      },
      "source": [
        "---"
      ]
    },
    {
      "cell_type": "markdown",
      "metadata": {
        "id": "txxDLp4Mj8D9",
        "colab_type": "text"
      },
      "source": [
        "# MISC. TEST"
      ]
    },
    {
      "cell_type": "code",
      "metadata": {
        "id": "9W2aGSGL92r2",
        "colab_type": "code",
        "outputId": "2b9d1a1e-9716-476f-b5a0-798a692c7c7d",
        "colab": {
          "base_uri": "https://localhost:8080/",
          "height": 170
        }
      },
      "source": [
        "#EXPERIMENT: Testing modified code\n",
        "#gamma = 2*kappa*theta/sigma^2\n",
        "\n",
        "if __name__ == '__main__':\n",
        "  start_time = time.time()\n",
        "  model = 'CIR_'\n",
        "\n",
        "  name = 'test'\n",
        "\n",
        "  #Iterable parameters:\n",
        "  all_params = namedtuple('all_params','X0 n_grid T repeat kappa theta sigma alpha')\n",
        "  pp = all_params(X0 = 0.5, n_grid = 10000, T = 1, repeat = 1,kappa = 0.3, theta = 0.3, sigma = 0.6, alpha = 0.8)\n",
        "\n",
        "  gamma = [2]\n",
        "  kappa = list(map(lambda p: p*np.power(pp.sigma,2)*(1/(2*pp.theta)),gamma))\n",
        "\n",
        "  #Generating ALL trajectories\n",
        "  X = np.zeros((len(gamma),mc_rep,pp.n_grid))\n",
        "  for i in range(len(kappa)):\n",
        "    print(f\"\\n Staring simulations on gamma = {gamma[i]}\\n\")\n",
        "    s_time = time.time()\n",
        "    j = 0\n",
        "    for x in CIR_Pool(pp.X0,pp.n_grid,pp.T,pp.repeat,kappa[i],pp.theta,pp.sigma,pp.alpha,sticky_boundary):\n",
        "      X[i,j,:] = x\n",
        "      j += 1\n",
        "    e_time = time.time()\n",
        "    print(f\"Finished generating trajectories for gamma = {gamma[i]} in {e_time-s_time} seconds.\\n\")\n",
        "\n",
        "\n",
        "\n",
        "\n",
        "  #Saving the Data\n",
        "  np.save(DATA_PATH + 'CIR_' + name + '_params' + '.npy',pp)\n",
        "  np.save(DATA_PATH + 'CIR_' + name + '_values' + '.npy',gamma) # SAVING THE USED PARAMETERS!!!\n",
        "  np.save(DATA_PATH + 'CIR_' + name + '.npy',X)\n",
        "  print(f\"Data saved to {DATA_PATH} succefully. \\n\")\n",
        "\n",
        "  end_time = time.time()\n",
        "  print(f\"The simulation finished in {end_time-start_time} seconds.\\n\")\n",
        "  del X"
      ],
      "execution_count": 0,
      "outputs": [
        {
          "output_type": "stream",
          "text": [
            "\n",
            " Staring simulations on gamma = 2\n",
            "\n",
            "Finished generating trajectories for gamma = 2 in 553.0340313911438 seconds.\n",
            "\n",
            "Data saved to /content/gdrive/My Drive/MSc. Szakdolgozat/Data/ succefully. \n",
            "\n",
            "The simulation finished in 556.5355095863342 seconds.\n",
            "\n"
          ],
          "name": "stdout"
        }
      ]
    },
    {
      "cell_type": "code",
      "metadata": {
        "id": "NnXXY8UOkLx6",
        "colab_type": "code",
        "outputId": "636fe274-64c9-4156-8d40-d088802956c8",
        "colab": {
          "base_uri": "https://localhost:8080/",
          "height": 119
        }
      },
      "source": [
        "if __name__ == '__main__':\n",
        "  start_time = time.time()\n",
        "  model = 'CIR_'\n",
        "\n",
        "  name = 'alpha_dependance'\n",
        "\n",
        "  #Iterable parameters:\n",
        "  all_params = namedtuple('all_params','X0 n_grid T repeat kappa theta sigma alpha')\n",
        "  pp = all_params(X0 = 0.5, n_grid = 10000, T = 1, repeat = 1,kappa = 2.4, theta = 0.3, sigma = 0.6, alpha = 0.8)\n",
        "\n",
        "  gamma = [2]\n",
        "  kappa = list(map(lambda p: p*np.power(pp.sigma,2)*(1/(2*pp.theta)),gamma))\n",
        "\n",
        "  #Generating ALL trajectories\n",
        "  X = []\n",
        "  for j in range(0,len(gamma)):\n",
        "    print(f\"\\n Staring simulations on gamma = {gamma[j]}\\n\")\n",
        "    s_time = time.time()\n",
        "    X.append(CIR_mp(pp.X0,pp.n_grid,pp.T,pp.repeat,kappa[j],pp.theta,pp.sigma,pp.alpha,sticky_boundary))\n",
        "    e_time = time.time()\n",
        "    print(f\"Finished generating trajectories for gamma = {gamma[j]} in {e_time-s_time} seconds.\\n\")\n",
        "\n",
        "  #Converting the list into a NumPy array, for easier usage\n",
        "  S = np.zeros((len(gamma),mc_rep,pp.n_grid))\n",
        "  j = 0\n",
        "  for x in X:\n",
        "    k = 0\n",
        "    for i in x:\n",
        "      S[j,k,:] = i\n",
        "      k += 1\n",
        "    j += 1\n",
        "  end_time = time.time()\n",
        "  del X #DONT FORGET TO REMOVE THIS LINE!!!!\n",
        "  del S #DONT FORGET TO REMOVE THIS LINE!!!!\n",
        "  print(f\"Total time:{end_time-start_time}\")"
      ],
      "execution_count": 0,
      "outputs": [
        {
          "output_type": "stream",
          "text": [
            "\n",
            " Staring simulations on gamma = 2\n",
            "\n",
            "Finished generating trajectories for gamma = 2 in 556.0748794078827 seconds.\n",
            "\n",
            "Total time:556.7253556251526\n"
          ],
          "name": "stdout"
        }
      ]
    },
    {
      "cell_type": "code",
      "metadata": {
        "id": "dw0lvTvwg4Ao",
        "colab_type": "code",
        "outputId": "d310f85e-968d-4096-e206-eff96f20cf2c",
        "colab": {
          "base_uri": "https://localhost:8080/",
          "height": 119
        }
      },
      "source": [
        "if __name__ == '__main__':\n",
        "  start_time = time.time()\n",
        "  model = 'CIR_'\n",
        "\n",
        "  name = 'test'\n",
        "\n",
        "  #Iterable parameters:\n",
        "  all_params = namedtuple('all_params','X0 n_grid T repeat kappa theta sigma alpha')\n",
        "  pp = all_params(X0 = 0.5, n_grid = 10000, T = 1, repeat = 1,kappa = 0.3, theta = 0.3, sigma = 0.6, alpha = 0.8)\n",
        "\n",
        "  gamma = [2]\n",
        "  kappa = list(map(lambda p: p*np.power(pp.sigma,2)*(1/(2*pp.theta)),gamma))\n",
        "\n",
        "  #Generating ALL trajectories\n",
        "  X = []\n",
        "  for j in range(len(kappa)):\n",
        "    print(f\"\\n Staring simulations on gamma = {gamma[j]}\\n\")\n",
        "    s_time = time.time()\n",
        "    x = []\n",
        "    for i in range(mc_rep):\n",
        "      x.append(CIR_path(pp.X0, pp.n_grid, pp.T, pp.repeat, kappa[j], pp.theta, pp.sigma, pp.alpha, i, sticky_boundary))\n",
        "    X.append(x)\n",
        "    e_time = time.time()\n",
        "    print(f\"Finished generating trajectories for gamma = {gamma[j]} in {e_time-s_time} seconds.\\n\")\n",
        "  S = np.zeros((len(gamma),mc_rep,pp.n_grid))\n",
        "  j = 0\n",
        "  for x in X:\n",
        "    k = 0\n",
        "    for i in x:\n",
        "      S[j,k,:] = i\n",
        "      k += 1\n",
        "    j += 1\n",
        "  end_time = time.time()\n",
        "  del X #DONT FORGET TO REMOVE THIS LINE!!!!\n",
        "  del S #DONT FORGET TO REMOVE THIS LINE!!!!\n",
        "  print(f\"Total time:{end_time-start_time}\")"
      ],
      "execution_count": 0,
      "outputs": [
        {
          "output_type": "stream",
          "text": [
            "\n",
            " Staring simulations on gamma = 2\n",
            "\n",
            "Finished generating trajectories for gamma = 2 in 1183.7417204380035 seconds.\n",
            "\n",
            "Total time:1184.133409023285\n"
          ],
          "name": "stdout"
        }
      ]
    },
    {
      "cell_type": "code",
      "metadata": {
        "id": "TSBwOws2_mdv",
        "colab_type": "code",
        "colab": {}
      },
      "source": [
        ""
      ],
      "execution_count": 0,
      "outputs": []
    },
    {
      "cell_type": "code",
      "metadata": {
        "id": "iSFo9-kG_mX0",
        "colab_type": "code",
        "colab": {}
      },
      "source": [
        ""
      ],
      "execution_count": 0,
      "outputs": []
    },
    {
      "cell_type": "code",
      "metadata": {
        "id": "b2EP46xK_mRw",
        "colab_type": "code",
        "colab": {}
      },
      "source": [
        ""
      ],
      "execution_count": 0,
      "outputs": []
    },
    {
      "cell_type": "code",
      "metadata": {
        "id": "1eIFvv9b_mF5",
        "colab_type": "code",
        "colab": {}
      },
      "source": [
        ""
      ],
      "execution_count": 0,
      "outputs": []
    },
    {
      "cell_type": "code",
      "metadata": {
        "id": "JDf6Akw4y9Cb",
        "colab_type": "code",
        "outputId": "75915385-0e50-43b4-cd10-85f8bf393b1a",
        "colab": {
          "base_uri": "https://localhost:8080/",
          "height": 34
        }
      },
      "source": [
        "for j in range(0,np.shape(S)[0]):\n",
        "  plt.figure()\n",
        "  plt.title(\"Gamma = \" + str(gamma[j]))\n",
        "  n,bins,patches = plt.hist(S[j,:,(np.shape(S)[2]-1)],bins = 200, density = True, histtype = \"step\")\n",
        "  plt.show()"
      ],
      "execution_count": 0,
      "outputs": [
        {
          "output_type": "execute_result",
          "data": {
            "text/plain": [
              "[None]"
            ]
          },
          "metadata": {
            "tags": []
          },
          "execution_count": 33
        }
      ]
    },
    {
      "cell_type": "code",
      "metadata": {
        "id": "Ji8_CQthFl1h",
        "colab_type": "code",
        "colab": {}
      },
      "source": [
        "\n",
        "  #Converting the list into a NumPy array, for easier usage\n",
        "  S = np.zeros((len(gamma),mc_rep,pp.n_grid))\n",
        "  j = 0\n",
        "  for x in X:\n",
        "    k = 0\n",
        "    for i in x:\n",
        "      S[j,k,:] = i\n",
        "      k += 1\n",
        "    j += 1\n",
        "\n",
        "\n",
        "  #Saving the Data\n",
        "  np.save(DATA_PATH + 'CIR_' + name + '_params' + '.npy',pp)\n",
        "  np.save(DATA_PATH + 'CIR_' + name + '_values' + '.npy',gamma)\n",
        "  np.save(DATA_PATH + 'CIR_' + name + '.npy',S)\n",
        "  print(f\"Data saved to {DATA_PATH} succefully. \\n\")\n",
        "  end_time = time.time()-start_time\n",
        "  print(f\"The simulation finished in {end_time} seconds.\\n\")"
      ],
      "execution_count": 0,
      "outputs": []
    }
  ]
}