{
  "nbformat": 4,
  "nbformat_minor": 0,
  "metadata": {
    "colab": {
      "name": "Models.ipynb",
      "provenance": [],
      "collapsed_sections": [
        "OV0Upc5MNBzM",
        "ZRr71nnaNCfy"
      ],
      "machine_shape": "hm",
      "include_colab_link": true
    },
    "kernelspec": {
      "name": "python3",
      "display_name": "Python 3"
    },
    "accelerator": "GPU"
  },
  "cells": [
    {
      "cell_type": "markdown",
      "metadata": {
        "id": "view-in-github",
        "colab_type": "text"
      },
      "source": [
        "<a href=\"https://colab.research.google.com/github/baskayj/Boundary-behaviour-in-stochastic-differential-equations-used-in-Finance/blob/master/Models.ipynb\" target=\"_parent\"><img src=\"https://colab.research.google.com/assets/colab-badge.svg\" alt=\"Open In Colab\"/></a>"
      ]
    },
    {
      "cell_type": "code",
      "metadata": {
        "id": "VuQcStMudqNs",
        "colab_type": "code",
        "colab": {}
      },
      "source": [
        "import time\n",
        "import json\n",
        "import numpy as np\n",
        "import matplotlib.pyplot as plt\n",
        "import multiprocessing as mp\n",
        "\n",
        "from collections import namedtuple\n",
        "from datetime import datetime\n",
        "\n",
        "mc_rep = 10000                                                                  #Number of generated trajectories\n",
        "s_freq = 100                                                                    #Sampling frequency"
      ],
      "execution_count": 0,
      "outputs": []
    },
    {
      "cell_type": "code",
      "metadata": {
        "id": "Sup1ynOWdt9W",
        "colab_type": "code",
        "outputId": "e28f547f-11d8-427a-df50-fbbc800172d3",
        "colab": {
          "base_uri": "https://localhost:8080/",
          "height": 123
        }
      },
      "source": [
        "#To load and save simulation data\n",
        "!ls -l  #Making sure we are at the right directory\n",
        "DATA_PATH = 'Data/'"
      ],
      "execution_count": 0,
      "outputs": [
        {
          "output_type": "stream",
          "text": [
            "total 1668\r\n",
            "-rwxrwxrwx 1 baskayj baskayj  270676 Oct  5 12:22  Analyser.ipynb\r\n",
            "drwxrwxrwx 1 baskayj baskayj    4096 Oct  5 12:36  Data\r\n",
            "-rwxrwxrwx 1 baskayj baskayj   19449 Oct  5 12:36  Models.ipynb\r\n",
            "-rwxrwxrwx 1 baskayj baskayj 1412037 Oct  4 09:12 'Old Code.ipynb'\r\n",
            "-rwxrwxrwx 1 baskayj baskayj     144 Oct  4 09:12  start_colab.sh\r\n"
          ],
          "name": "stdout"
        }
      ]
    },
    {
      "cell_type": "code",
      "metadata": {
        "id": "aVqJJRzueDq7",
        "colab_type": "code",
        "colab": {}
      },
      "source": [
        "#CIR MODEL\n",
        "#There are multiple finite-diffrence schemes for simulation including,\n",
        "#Euler-Maryama Scheme: X[i] = X[i-1] + kappa*(theta-X[i-1])*dt + sigma*np.sqrt(X[i-1])*W[i-1]*np.sqrt(dt)\n",
        "#Weighted Milstein Scheme: X[i] = (X[i-1] + kappa*(theta-alpha*X[i-1])*dt + sigma*np.sqrt(X[i-1])*W[i-1]*np.sqrt(dt) + (1/4)*np.power(sigma,2)*dt*(np.power(W[i-1],2)-1))/(1+(1-alpha)*kappa*dt)\n",
        "#To be continued...\n",
        "\n",
        "#gamma = 2*kappa*theta/sigma^2\n",
        "\n",
        "#-------------------------------------------------------------------------------\n",
        "#Path(returns the entire path as a NumPy array)\n",
        "#Euler-Maryama Scheme\n",
        "def CIR_path(X0, dt, T, kappa, theta, sigma, seed):\n",
        "  N = int(T/dt)\n",
        "  np.random.seed(seed)\n",
        "  W = np.random.normal(size=N)\n",
        "  X = np.zeros(N)\n",
        "  X[0] = X0\n",
        "  for i in range(1,N):\n",
        "    x = X[i] = X[i-1] + kappa*(theta-X[i-1])*dt + sigma*np.sqrt(X[i-1])*W[i-1]*np.sqrt(dt)\n",
        "    if x < 0 :\n",
        "      X[i] = 0\n",
        "    else:\n",
        "      X[i] = x\n",
        "  del W\n",
        "  return X\n",
        "\n",
        "\n",
        "#Weighted Milstein Scheme\n",
        "def CIR_path_wms(X0, dt, T, kappa, theta, sigma, seed):\n",
        "  N = int(T/dt)\n",
        "  alpha = 0.8\n",
        "  np.random.seed(seed)\n",
        "  W = np.random.normal(size=N)\n",
        "  X = np.zeros(N)\n",
        "  X[0] = X0\n",
        "  for i in range(1,N):\n",
        "    x = X[i] = (X[i-1] + kappa*(theta-alpha*X[i-1])*dt + sigma*np.sqrt(X[i-1])*W[i-1]*np.sqrt(dt) + (1/4)*np.power(sigma,2)*dt*(np.power(W[i-1],2)-1))/(1+(1-alpha)*kappa*dt)\n",
        "    if x < 0 :\n",
        "      X[i] = 0\n",
        "    else:\n",
        "      X[i] = x\n",
        "  return X\n",
        "\n",
        "#-------------------------------------------------------------------------------\n",
        "#Process(Does not return entire trajectories)\n",
        "#Euler-Maryama Scheme\n",
        "def CIR_prcss(X0, dt, T, kappa, theta, sigma, seed):\n",
        "  N = int(T/dt)\n",
        "  np.random.seed(seed)\n",
        "  W = np.random.normal(size=N)\n",
        "  X = np.zeros(N)\n",
        "  \n",
        "  X_R = []         #Samples will be stored here\n",
        "  tau_2X0 = T+dt   #Time for the trajectory to reach 2*X0 for the first time\n",
        "  tau_0 = T+dt     #Time for the trajectory to reach 2*X0 for the first time\n",
        "  R = []           #All the return values will be here\n",
        "  \n",
        "\n",
        "  X[0] = X0\n",
        "  for i in range(1,N):\n",
        "    x = X[i-1] + kappa*(theta-X[i-1])*dt + sigma*np.sqrt(X[i-1])*W[i-1]*np.sqrt(dt)\n",
        "\n",
        "    if x < 0 :\n",
        "      if i*dt <= tau_0:\n",
        "        tau_0 = i*dt\n",
        "      X[i] = 0\n",
        "    \n",
        "    elif x > 2*X0:\n",
        "      if i*dt <= tau_2X0:\n",
        "        tau_2X0 = i*dt\n",
        "      X[i] = x\n",
        "    \n",
        "    else:\n",
        "      X[i] = x\n",
        "    \n",
        "    if (i%s_freq) == 0:\n",
        "      X_R.append(X[i])\n",
        "  X_R.append(X[N-1])\n",
        "  R.append(X_R)\n",
        "  R.append(tau_2X0)\n",
        "  R.append(tau_0)\n",
        "  \n",
        "  del W\n",
        "  del X\n",
        "  del X_R\n",
        "  \n",
        "  return R\n",
        "\n",
        "#Weighted Milstein Scheme\n",
        "def CIR_prcss_wms(X0, dt, T, kappa, theta, sigma, seed):\n",
        "  N = int(T/dt)\n",
        "  alpha = 0.8\n",
        "  np.random.seed(seed)\n",
        "  W = np.random.normal(size=N)\n",
        "  X = np.zeros(N)\n",
        "  X[0] = X0\n",
        "  for i in range(1,N):\n",
        "    x = (X[i-1] + kappa*(theta-alpha*X[i-1])*dt + sigma*np.sqrt(X[i-1])*W[i-1]*np.sqrt(dt) + (1/4)*np.power(sigma,2)*dt*(np.power(W[i-1],2)-1))/(1+(1-alpha)*kappa*dt)\n",
        "    if x < 0 :\n",
        "      X[i] = 0\n",
        "    else:\n",
        "      X[i] = x\n",
        "  return X[N-1]\n",
        "\n",
        "#Non-central chi^2 method\n",
        "def CIR_prcss_nccs(X0, dt, T, kappa, theta, sigma, seed):\n",
        "  k = ((4*kappa*theta)/(np.power(sigma,2)))\n",
        "  N = int(T/dt)\n",
        "  np.random.seed(seed)\n",
        "  X = np.zeros(N)\n",
        "  X[0] = X0\n",
        "  for i in range(1,N):\n",
        "    X[i] = np.random.noncentral_chisquare(k,X[i-1]*((4*kappa)/(np.power(sigma,2)))*np.exp(-kappa*dt)*(1-np.exp(-kappa*dt))) * np.exp(-kappa*dt) *(1/((4*kappa)/(np.power(sigma,2)))*np.exp(-kappa*dt)*(1-np.exp(-kappa*dt)))\n",
        "  return X[N-1]"
      ],
      "execution_count": 0,
      "outputs": []
    },
    {
      "cell_type": "code",
      "metadata": {
        "id": "M4EljScGscqS",
        "colab_type": "code",
        "colab": {}
      },
      "source": [
        "# CLASSES for MP\n",
        "\n",
        "#CIR\n",
        "class CIR():\n",
        "  def __init__(self,X0,dt,T,kappa,theta,sigma):\n",
        "    self.X0 = X0\n",
        "    self.dt = dt\n",
        "    self.T = T\n",
        "    self.kappa = kappa\n",
        "    self.theta = theta\n",
        "    self.sigma = sigma\n",
        "  def Prcss(self,seed):\n",
        "    return CIR_prcss(self.X0, self.dt, self.T, self.kappa, self.theta, self.sigma, seed)"
      ],
      "execution_count": 0,
      "outputs": []
    },
    {
      "cell_type": "code",
      "metadata": {
        "id": "wl715wm3pjWg",
        "colab_type": "code",
        "colab": {}
      },
      "source": [
        "#MULTIPROCESS FUNCTION\n",
        "\n",
        "def CIR_Prcss_mp(X0,dt,T,kappa,theta,sigma):\n",
        "  cir = CIR(X0,dt,T,kappa,theta,sigma)\n",
        "  pool = mp.Pool(processes=mp.cpu_count()-1)\n",
        "  return pool.map(cir.Prcss,range(mc_rep))"
      ],
      "execution_count": 0,
      "outputs": []
    },
    {
      "cell_type": "code",
      "metadata": {
        "id": "r5ybe5TQIAg5",
        "colab_type": "code",
        "colab": {}
      },
      "source": [
        "#SAVING\n",
        "\n",
        "def print_log(string):\n",
        "  logs = open(f\"{DATA_PATH}logs.txt\",\"a\")\n",
        "  logs.write(string)\n",
        "  logs.close()\n",
        "\n",
        "def Save(model,name,var_name,P,var,R):\n",
        "\n",
        "  with open(f\"{DATA_PATH}{model}{name}_params.txt\",\"w\") as outfile1:\n",
        "    json.dump(P._asdict(),outfile1)\n",
        "  outfile1.close()\n",
        "\n",
        "  for i in range(len(var_name)):\n",
        "    with open(f\"{DATA_PATH}{model}{name}_{var_name[i]}_values.txt\",\"w\") as outfile2:\n",
        "      json.dump(var[i],outfile2)\n",
        "    outfile2.close()\n",
        "  for i in range(len(R)):\n",
        "    np.save(f\"{DATA_PATH}{model}{name}_{i}.npy\",R[i])\n",
        "  \n",
        "  tvalue = datetime.fromtimestamp(int(time.time()))\n",
        "  print_log(f\"[{tvalue.strftime('%Y-%m-%d %H:%M:%S')}]Data saved to \\\"{DATA_PATH}\\\" succefully.\\n\")"
      ],
      "execution_count": 0,
      "outputs": []
    },
    {
      "cell_type": "markdown",
      "metadata": {
        "id": "3AleF7nQo-av",
        "colab_type": "text"
      },
      "source": [
        "------"
      ]
    },
    {
      "cell_type": "markdown",
      "metadata": {
        "id": "Igo29OZaMDdG",
        "colab_type": "text"
      },
      "source": [
        "# Relationship between the CIR-Process and the Noncentral $\\chi ^2$-distribution"
      ]
    },
    {
      "cell_type": "markdown",
      "metadata": {
        "id": "fWiabTD7MWjY",
        "colab_type": "text"
      },
      "source": [
        "A noncentral $\\chi^2$-distribution can be described with the probability density function:\n",
        "$$f_\\chi (x,k,\\lambda) = \\sum_{x = 0}^{\\infty}{\\frac{e^{-\\lambda/2}(\\lambda/2)^i}{i!}f_{Y_k+2i}(x)}$$\n",
        "Where $Y_q$ is $\\chi^2$ distributed with degrees of freedom of $q$.\n",
        "The parameters of this thistribution:\n",
        "* $k$ degrees of freedom\n",
        "* $\\lambda$ noncentrality parameter\n",
        "\n",
        "According to [2] the CIR process can be simulated by setting the degrees of freedom and non-centrality parameters as follows:\n",
        "* $k := \\frac{4\\kappa\\theta}{\\sigma^2} = 2\\gamma$\n",
        "* $\\lambda := X_{t_n}\\eta(dt)$\n",
        "Where we introduced the function $\\eta(dt)$ as \n",
        "$$ \\eta(dt) := \\frac{4\\kappa}{\\sigma^2} e^{-\\kappa dt} (1-e^{-\\kappa dt})$$\n",
        "\n",
        "With this the $t_{n+1}$-th step looks like:\n",
        "$$ X_{t_{n+1}} = \\chi^2_k (\\lambda) \\frac{e^{-\\kappa dt}}{\\eta(dt)} $$\n",
        "\n",
        "We can use **numpy.random.noncentral_chisquare** to draw random numbers from the noncentral $\\chi^2$-distribution.\n"
      ]
    },
    {
      "cell_type": "markdown",
      "metadata": {
        "id": "1A_LkNAVMXxT",
        "colab_type": "text"
      },
      "source": [
        "References:\n",
        "\n",
        "[1] https://en.wikipedia.org/wiki/Noncentral_chi-squared_distribution\n",
        "\n",
        "[2] https://arxiv.org/pdf/0802.4411.pdf"
      ]
    },
    {
      "cell_type": "markdown",
      "metadata": {
        "id": "kt1O7dwZMbCW",
        "colab_type": "text"
      },
      "source": [
        "---"
      ]
    },
    {
      "cell_type": "markdown",
      "metadata": {
        "id": "3K3Hrfc4EXcX",
        "colab_type": "text"
      },
      "source": [
        "# EXPERIMENT: $T\\rightarrow\\infty$"
      ]
    },
    {
      "cell_type": "code",
      "metadata": {
        "id": "4rJL3cJaIhUQ",
        "colab_type": "code",
        "colab": {}
      },
      "source": [
        "#EXPERIMENT:\n",
        "\n",
        "model = 'CIR_'\n",
        "\n",
        "name = 'T_to infty'\n",
        "\n",
        "tvalue = datetime.fromtimestamp(int(time.time()))\n",
        "print_log(f\"\\n\\n[{tvalue.strftime('%Y-%m-%d %H:%M:%S')}]Staring Experiment {model}{name}.\\n\")\n",
        "\n",
        "#Parameters:\n",
        "Parameters = namedtuple('Parameters','X0 dt T kappa theta sigma')\n",
        "P = Parameters(X0 = 0.1, dt = (1/100), T = 100,kappa = 1, theta = 1, sigma = 0.6)\n",
        "\n",
        "#Variables:\n",
        "var_name = 'gamma'\n",
        "var = [0.2,0.3,0.5,0.8,0.9,1,1.1,1.5,2,3,5,10]\n",
        "\n",
        "#kappa = list(map(lambda p: p*np.power(P.sigma,2)*(1/(2*P.theta)),var))\n",
        "#theta = list(map(lambda p: p*np.power(P.sigma,2)*(1/(2*P.kappa)),var))\n",
        "sigma = list(map(lambda p: np.sqrt((2*P.kappa*P.theta)/p),var))\n",
        "\n",
        "#Transforming the parameters into a more digestable form. This way the computation heavy part of the code needs less for cycles.\n",
        "T = []\n",
        "for i in range(len(var)):\n",
        "  T.append([P.X0,P.dt,P.T,P.kappa,P.theta,sigma[i]])\n",
        "\n",
        "#GENERATING ALL TRAJECTORIES\n",
        "X = np.zeros((len(T),mc_rep,int(P.T/(P.dt*s_freq))))\n",
        "tau_2X0 = np.zeros((len(T),mc_rep))\n",
        "tau_0 = np.zeros((len(T),mc_rep))\n",
        "\n",
        "for i in range(len(var)):\n",
        "  start_time = time.time()\n",
        "  print_log(f\"Making trajectories for X0 = {T[i][0]},dt = {T[i][1]},T = {T[i][2]},kappa = {T[i][3]},theta = {T[i][4]},sigma = {T[i][5]}.\\n\")\n",
        "\n",
        "  r = CIR_Prcss_mp(P.X0,P.dt,P.T,P.kappa,P.theta,sigma[i])\n",
        "\n",
        "  for j in range(len(r)):\n",
        "    X[i,j,:] = r[j][0]\n",
        "    tau_2X0[i,j] = r[j][1]\n",
        "    tau_0[i,j] = r[j][2]\n",
        "  end_time = time.time()\n",
        "  print_log(f\"  Finished generating trajectories in {int((end_time-start_time)/60)} minutes and {end_time-start_time-int((end_time-start_time)/60)*60} seconds.[{i+1}/{len(T)}]\\n\")\n",
        "\n",
        "#Saving the Data\n",
        "var_name = [var_name]\n",
        "var = [var]\n",
        "R = [X,tau_2X0,tau_0]\n",
        "del X\n",
        "del tau_2X0\n",
        "del tau_0\n",
        "Save(model,name,var_name,P,var,R)\n",
        "\n",
        "#Memory Management\n",
        "del T\n",
        "del R\n",
        "\n",
        "tvalue = datetime.fromtimestamp(int(time.time()))\n",
        "print_log(f\"[{tvalue.strftime('%Y-%m-%d %H:%M:%S')}]The experiment finished.\\n\")"
      ],
      "execution_count": 0,
      "outputs": []
    },
    {
      "cell_type": "markdown",
      "metadata": {
        "id": "OV0Upc5MNBzM",
        "colab_type": "text"
      },
      "source": [
        "# EXPERIMENT: Using the Noncentral $\\chi ^2$-distribution"
      ]
    },
    {
      "cell_type": "code",
      "metadata": {
        "id": "DaUOvIc5NCLC",
        "colab_type": "code",
        "colab": {}
      },
      "source": [
        "#EXPERIMENT:Simulating the process using the noncentral chi^2-distribution\n",
        "\n",
        "model = 'CIR_'\n",
        "\n",
        "name = 'nccs_test'\n",
        "\n",
        "print_log(f\"\\n\\nStaring Experiment {model}{name}.\\n\")\n",
        "\n",
        "#Parameters:\n",
        "Parameters = namedtuple('Parameters','X0 dt T kappa theta sigma')\n",
        "P = Parameters(X0 = 0.00001, dt = (1/10), T = 1,kappa = 1, theta = 1, sigma = 0.6)\n",
        "\n",
        "#Variables:\n",
        "var_name = 'gamma'\n",
        "var = [0.1,0.5,0.9,1.1,1.5,2,5]\n",
        "\n",
        "#kappa = list(map(lambda p: p*np.power(P.sigma,2)*(1/(2*P.theta)),var))\n",
        "#theta = list(map(lambda p: p*np.power(P.sigma,2)*(1/(2*P.kappa)),var))\n",
        "sigma = list(map(lambda p: np.sqrt((2*P.kappa*P.theta)/p),var))\n",
        "\n",
        "#Transforming the parameters into a more digestable form. This way the computation heavy part of the code needs less for cycles.\n",
        "T = []\n",
        "for i in range(len(var)):\n",
        "  T.append([P.X0,P.dt,P.T,P.kappa,P.theta,sigma[i]])\n",
        "\n",
        "start_time = time.time()\n",
        "#GENERATING ALL TRAJECTORIES\n",
        "X = np.zeros((len(T),mc_rep))\n",
        "for i in range(len(T)):\n",
        "  print_log(f\"Making trajectories for X0 = {T[i][0]},dt = {T[i][1]},T = {T[i][2]},kappa = {T[i][3]},theta = {T[i][4]},sigma = {T[i][5]}.\\n\")\n",
        "\n",
        "  s_time = time.time()\n",
        "  n = 0\n",
        "  for x in CIR_Prcss_nccs_mp(T[i][0],T[i][1],T[i][2],T[i][3],T[i][4],T[i][5]):\n",
        "    X[i,n] = x\n",
        "    n += 1\n",
        "  e_time = time.time()\n",
        "\n",
        "  print_log(f\"  Finished generating trajectories in {int((e_time-s_time)/60)} minutes and {e_time-s_time-int((e_time-s_time)/60)*60} seconds.[{i+1}/{len(T)}]\\n\")\n",
        "\n",
        "#Saving the Data\n",
        "var_name = [var_name]\n",
        "var = [var]\n",
        "Save(model,name,var_name,P,var,X)\n",
        "\n",
        "#Memory Management\n",
        "del T\n",
        "del X\n",
        "\n",
        "end_time = time.time()\n",
        "\n",
        "print_log(f\"The experiment finished in {int((end_time-start_time)/60)} minutes and {end_time-start_time-int((end_time-start_time)/60)*60} seconds.\\n\")"
      ],
      "execution_count": 0,
      "outputs": []
    },
    {
      "cell_type": "markdown",
      "metadata": {
        "id": "ZRr71nnaNCfy",
        "colab_type": "text"
      },
      "source": [
        "#EXPERIMENT: Finding the critical $\\gamma$-value numerically"
      ]
    },
    {
      "cell_type": "code",
      "metadata": {
        "id": "1n6m56AeNC5P",
        "colab_type": "code",
        "colab": {}
      },
      "source": [
        ""
      ],
      "execution_count": 0,
      "outputs": []
    },
    {
      "cell_type": "markdown",
      "metadata": {
        "id": "txxDLp4Mj8D9",
        "colab_type": "text"
      },
      "source": [
        "# MISC. TEST"
      ]
    },
    {
      "cell_type": "code",
      "metadata": {
        "id": "9W2aGSGL92r2",
        "colab_type": "code",
        "cellView": "code",
        "outputId": "40e9af1b-2792-40e7-a38e-c13d387b4d4a",
        "colab": {
          "base_uri": "https://localhost:8080/",
          "height": 187
        }
      },
      "source": [
        "#EXPERIMENT:\n",
        "\n",
        "model = 'CIR_'\n",
        "\n",
        "name = 'test'\n",
        "\n",
        "print(f\"\\n\\nStaring Experiment {model}{name}.\\n\")\n",
        "\n",
        "#Parameters:\n",
        "Parameters = namedtuple('Parameters','X0 dt T kappa theta sigma')\n",
        "P = Parameters(X0 = 0.5, dt = (1/10), T = 1,kappa = 1, theta = 1, sigma = 0.6)\n",
        "\n",
        "#Variables:\n",
        "var_name = 'gamma'\n",
        "var = [2]\n",
        "\n",
        "#kappa = list(map(lambda p: p*np.power(P.sigma,2)*(1/(2*P.theta)),var))\n",
        "#theta = list(map(lambda p: p*np.power(P.sigma,2)*(1/(2*P.kappa)),var))\n",
        "sigma = list(map(lambda p: np.sqrt((2*P.kappa*P.theta)/p),var))\n",
        "\n",
        "#Transforming the parameters into a more digestable form. This way the computation heavy part of the code needs less for cycles.\n",
        "T = []\n",
        "for i in range(len(var)):\n",
        "  T.append([P.X0,P.dt,P.T,P.kappa,P.theta,sigma[i]])\n",
        "\n",
        "start_time = time.time()\n",
        "#GENERATING ALL TRAJECTORIES\n",
        "X = np.zeros((len(T),mc_rep))\n",
        "for i in range(len(T)):\n",
        "  print(f\"Making trajectories for X0 = {T[i][0]},dt = {T[i][1]},T = {T[i][2]},kappa = {T[i][3]},theta = {T[i][4]},sigma = {T[i][5]}.\\n\")\n",
        "\n",
        "  s_time = time.time()\n",
        "  n = 0\n",
        "  for x in CIR_Prcss_mp(T[i][0],T[i][1],T[i][2],T[i][3],T[i][4],T[i][5]):\n",
        "    X[i,n] = x\n",
        "    n += 1\n",
        "  e_time = time.time()\n",
        "\n",
        "  print(f\"  Finished generating trajectories in {int((e_time-s_time)/60)} minutes and {e_time-s_time-int((e_time-s_time)/60)*60} seconds.[{i+1}/{len(T)}]\\n\")\n",
        "\n",
        "#Saving the Data\n",
        "var_name = [var_name]\n",
        "var = [var]\n",
        "Save(model,name,var_name,P,var,X)\n",
        "\n",
        "#Memory Management\n",
        "del T\n",
        "del X\n",
        "\n",
        "end_time = time.time()\n",
        "\n",
        "print(f\"The experiment finished in {int((end_time-start_time)/60)} minutes and {end_time-start_time-int((end_time-start_time)/60)*60} seconds.\\n\")"
      ],
      "execution_count": 0,
      "outputs": [
        {
          "output_type": "stream",
          "text": [
            "\n",
            "\n",
            "Staring Experiment CIR_test.\n",
            "\n",
            "Making trajectories for X0 = 0.5,dt = 0.1,T = 1,kappa = 1,theta = 1,sigma = 1.0.\n",
            "\n",
            "  Finished generating trajectories in 0 minutes and 0.37604784965515137 seconds.[1/1]\n",
            "\n",
            "The experiment finished in 0 minutes and 0.3887605667114258 seconds.\n",
            "\n"
          ],
          "name": "stdout"
        }
      ]
    },
    {
      "cell_type": "markdown",
      "metadata": {
        "id": "ZXa0146STQJf",
        "colab_type": "text"
      },
      "source": [
        "---\n",
        "\n",
        "#### 10k x 1k grid runtimes, and cpu stress\n",
        "* All Cores: \t22.3 sec \t100% utilizitaion\n",
        "* 3 Cores:\t26.3 sec \t80% utilizitaion\n",
        "* 2 Cores:\t39.0 sec\t60 % utilizitaion\n",
        "* 1 Core:\t\t78.3 sec\t30 % utilizitaion\n",
        "* Colab:\t\t52.8 sec"
      ]
    }
  ]
}